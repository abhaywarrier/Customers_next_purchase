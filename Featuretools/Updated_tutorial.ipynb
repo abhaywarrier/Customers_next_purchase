{
  "cells": [
    {
      "cell_type": "markdown",
      "metadata": {},
      "source": [
        "# Predict Next Purchase\n",
        "In this tutorial, build a machine learning application that predicts whether customers will purchase a product within the next shopping period. This application is structured into three important steps:\n",
        "\n",
        "* Prediction Engineering\n",
        "\n",
        "* Feature Engineering\n",
        "\n",
        "* Machine Learning\n",
        "\n",
        "In the first step, you generate new labels from the data by using Compose. In the second step, you generate features for the labels by using Featuretools. In the third step, you search for the best machine learning pipeline by using EvalML. After working through these steps, you should understand how to build machine learning applications for real-world problems like predicting consumer spending.\n",
        "\n",
        "Note: In order to run this example, you should have Featuretools 1.4.0 or newer"
      ]
    },
    {
      "cell_type": "code",
      "execution_count": 97,
      "metadata": {
        "id": "lYYysTDfQGUc"
      },
      "outputs": [],
      "source": [
        "import os\n",
        "import pandas as pd\n",
        "def load_sample(data_dir):\n",
        "    #merge the csv files aisle.csv and products.csv\n",
        "    df = pd.merge(pd.read_csv(os.path.join(data_dir, \"aisles.csv\")), pd.read_csv(os.path.join(data_dir, \"products.csv\")))\n",
        "    #merge this df with department.csv\n",
        "    df = pd.merge(df, pd.read_csv(os.path.join(data_dir, \"departments.csv\")))\n",
        "    #merge this df with order_products__prior.csv\n",
        "    df = pd.merge(df, pd.read_csv(os.path.join(data_dir, \"file.csv\")))\n",
        "    #merge this df with orders.csv\n",
        "    df = pd.merge(df, pd.read_csv(os.path.join(data_dir, \"orders.csv\")))\n",
        "    return df"
      ]
    },
    {
      "cell_type": "markdown",
      "metadata": {},
      "source": [
        "Use this historical data of online grocery orders provided by Instacart."
      ]
    },
    {
      "cell_type": "code",
      "execution_count": 98,
      "metadata": {
        "id": "9N-tDUhCQGUd"
      },
      "outputs": [],
      "source": [
        "df = load_sample(\"/\")"
      ]
    },
    {
      "cell_type": "code",
      "execution_count": 99,
      "metadata": {
        "colab": {
          "base_uri": "https://localhost:8080/"
        },
        "id": "J0yUQQyiQGUe",
        "outputId": "62c59437-a82d-4f58-ebdf-0c84c573bfda"
      },
      "outputs": [
        {
          "data": {
            "text/plain": [
              "aisle_id                  0\n",
              "aisle                     0\n",
              "product_id                0\n",
              "product_name              0\n",
              "department_id             0\n",
              "department                0\n",
              "order_id                  0\n",
              "add_to_cart_order         0\n",
              "reordered                 0\n",
              "user_id                   0\n",
              "eval_set                  0\n",
              "order_number              0\n",
              "order_dow                 0\n",
              "order_hour_of_day         0\n",
              "days_since_prior_order    0\n",
              "dtype: int64"
            ]
          },
          "execution_count": 99,
          "metadata": {},
          "output_type": "execute_result"
        }
      ],
      "source": [
        "df.isnull().sum()"
      ]
    },
    {
      "cell_type": "code",
      "execution_count": 100,
      "metadata": {
        "colab": {
          "base_uri": "https://localhost:8080/",
          "height": 426
        },
        "id": "rsCEkRcEQGUe",
        "outputId": "f96319b6-3a96-4c11-e0b3-f703b1ea1bd1"
      },
      "outputs": [
        {
          "data": {
            "text/html": [
              "\n",
              "\n",
              "  <div id=\"df-09d0a86c-e325-4cc1-bf72-3a8532ec07d1\">\n",
              "    <div class=\"colab-df-container\">\n",
              "      <div>\n",
              "<style scoped>\n",
              "    .dataframe tbody tr th:only-of-type {\n",
              "        vertical-align: middle;\n",
              "    }\n",
              "\n",
              "    .dataframe tbody tr th {\n",
              "        vertical-align: top;\n",
              "    }\n",
              "\n",
              "    .dataframe thead th {\n",
              "        text-align: right;\n",
              "    }\n",
              "</style>\n",
              "<table border=\"1\" class=\"dataframe\">\n",
              "  <thead>\n",
              "    <tr style=\"text-align: right;\">\n",
              "      <th></th>\n",
              "      <th>aisle_id</th>\n",
              "      <th>aisle</th>\n",
              "      <th>product_id</th>\n",
              "      <th>product_name</th>\n",
              "      <th>department_id</th>\n",
              "      <th>department</th>\n",
              "      <th>order_id</th>\n",
              "      <th>add_to_cart_order</th>\n",
              "      <th>reordered</th>\n",
              "      <th>user_id</th>\n",
              "      <th>eval_set</th>\n",
              "      <th>order_number</th>\n",
              "      <th>order_dow</th>\n",
              "      <th>order_hour_of_day</th>\n",
              "      <th>days_since_prior_order</th>\n",
              "    </tr>\n",
              "  </thead>\n",
              "  <tbody>\n",
              "    <tr>\n",
              "      <th>0</th>\n",
              "      <td>1</td>\n",
              "      <td>prepared soups salads</td>\n",
              "      <td>209</td>\n",
              "      <td>Italian Pasta Salad</td>\n",
              "      <td>20</td>\n",
              "      <td>deli</td>\n",
              "      <td>36461</td>\n",
              "      <td>6.0</td>\n",
              "      <td>1.0</td>\n",
              "      <td>50978</td>\n",
              "      <td>train</td>\n",
              "      <td>7.0</td>\n",
              "      <td>6.0</td>\n",
              "      <td>13.0</td>\n",
              "      <td>20.0</td>\n",
              "    </tr>\n",
              "    <tr>\n",
              "      <th>1</th>\n",
              "      <td>1</td>\n",
              "      <td>prepared soups salads</td>\n",
              "      <td>12398</td>\n",
              "      <td>Caprese Salad</td>\n",
              "      <td>20</td>\n",
              "      <td>deli</td>\n",
              "      <td>36461</td>\n",
              "      <td>7.0</td>\n",
              "      <td>0.0</td>\n",
              "      <td>50978</td>\n",
              "      <td>train</td>\n",
              "      <td>7.0</td>\n",
              "      <td>6.0</td>\n",
              "      <td>13.0</td>\n",
              "      <td>20.0</td>\n",
              "    </tr>\n",
              "    <tr>\n",
              "      <th>2</th>\n",
              "      <td>13</td>\n",
              "      <td>prepared meals</td>\n",
              "      <td>25407</td>\n",
              "      <td>Mashed Potatoes</td>\n",
              "      <td>20</td>\n",
              "      <td>deli</td>\n",
              "      <td>36461</td>\n",
              "      <td>5.0</td>\n",
              "      <td>0.0</td>\n",
              "      <td>50978</td>\n",
              "      <td>train</td>\n",
              "      <td>7.0</td>\n",
              "      <td>6.0</td>\n",
              "      <td>13.0</td>\n",
              "      <td>20.0</td>\n",
              "    </tr>\n",
              "    <tr>\n",
              "      <th>3</th>\n",
              "      <td>108</td>\n",
              "      <td>other creams cheeses</td>\n",
              "      <td>27323</td>\n",
              "      <td>Pure &amp; Natural Sour Cream</td>\n",
              "      <td>16</td>\n",
              "      <td>dairy eggs</td>\n",
              "      <td>36461</td>\n",
              "      <td>1.0</td>\n",
              "      <td>1.0</td>\n",
              "      <td>50978</td>\n",
              "      <td>train</td>\n",
              "      <td>7.0</td>\n",
              "      <td>6.0</td>\n",
              "      <td>13.0</td>\n",
              "      <td>20.0</td>\n",
              "    </tr>\n",
              "    <tr>\n",
              "      <th>4</th>\n",
              "      <td>108</td>\n",
              "      <td>other creams cheeses</td>\n",
              "      <td>40593</td>\n",
              "      <td>Cream Cheese</td>\n",
              "      <td>16</td>\n",
              "      <td>dairy eggs</td>\n",
              "      <td>36461</td>\n",
              "      <td>11.0</td>\n",
              "      <td>1.0</td>\n",
              "      <td>50978</td>\n",
              "      <td>train</td>\n",
              "      <td>7.0</td>\n",
              "      <td>6.0</td>\n",
              "      <td>13.0</td>\n",
              "      <td>20.0</td>\n",
              "    </tr>\n",
              "  </tbody>\n",
              "</table>\n",
              "</div>\n",
              "      <button class=\"colab-df-convert\" onclick=\"convertToInteractive('df-09d0a86c-e325-4cc1-bf72-3a8532ec07d1')\"\n",
              "              title=\"Convert this dataframe to an interactive table.\"\n",
              "              style=\"display:none;\">\n",
              "\n",
              "  <svg xmlns=\"http://www.w3.org/2000/svg\" height=\"24px\"viewBox=\"0 0 24 24\"\n",
              "       width=\"24px\">\n",
              "    <path d=\"M0 0h24v24H0V0z\" fill=\"none\"/>\n",
              "    <path d=\"M18.56 5.44l.94 2.06.94-2.06 2.06-.94-2.06-.94-.94-2.06-.94 2.06-2.06.94zm-11 1L8.5 8.5l.94-2.06 2.06-.94-2.06-.94L8.5 2.5l-.94 2.06-2.06.94zm10 10l.94 2.06.94-2.06 2.06-.94-2.06-.94-.94-2.06-.94 2.06-2.06.94z\"/><path d=\"M17.41 7.96l-1.37-1.37c-.4-.4-.92-.59-1.43-.59-.52 0-1.04.2-1.43.59L10.3 9.45l-7.72 7.72c-.78.78-.78 2.05 0 2.83L4 21.41c.39.39.9.59 1.41.59.51 0 1.02-.2 1.41-.59l7.78-7.78 2.81-2.81c.8-.78.8-2.07 0-2.86zM5.41 20L4 18.59l7.72-7.72 1.47 1.35L5.41 20z\"/>\n",
              "  </svg>\n",
              "      </button>\n",
              "\n",
              "\n",
              "\n",
              "    <div id=\"df-12160c50-0c02-4528-8708-b66de9da8232\">\n",
              "      <button class=\"colab-df-quickchart\" onclick=\"quickchart('df-12160c50-0c02-4528-8708-b66de9da8232')\"\n",
              "              title=\"Suggest charts.\"\n",
              "              style=\"display:none;\">\n",
              "\n",
              "<svg xmlns=\"http://www.w3.org/2000/svg\" height=\"24px\"viewBox=\"0 0 24 24\"\n",
              "     width=\"24px\">\n",
              "    <g>\n",
              "        <path d=\"M19 3H5c-1.1 0-2 .9-2 2v14c0 1.1.9 2 2 2h14c1.1 0 2-.9 2-2V5c0-1.1-.9-2-2-2zM9 17H7v-7h2v7zm4 0h-2V7h2v10zm4 0h-2v-4h2v4z\"/>\n",
              "    </g>\n",
              "</svg>\n",
              "      </button>\n",
              "    </div>\n",
              "\n",
              "<style>\n",
              "  .colab-df-quickchart {\n",
              "    background-color: #E8F0FE;\n",
              "    border: none;\n",
              "    border-radius: 50%;\n",
              "    cursor: pointer;\n",
              "    display: none;\n",
              "    fill: #1967D2;\n",
              "    height: 32px;\n",
              "    padding: 0 0 0 0;\n",
              "    width: 32px;\n",
              "  }\n",
              "\n",
              "  .colab-df-quickchart:hover {\n",
              "    background-color: #E2EBFA;\n",
              "    box-shadow: 0px 1px 2px rgba(60, 64, 67, 0.3), 0px 1px 3px 1px rgba(60, 64, 67, 0.15);\n",
              "    fill: #174EA6;\n",
              "  }\n",
              "\n",
              "  [theme=dark] .colab-df-quickchart {\n",
              "    background-color: #3B4455;\n",
              "    fill: #D2E3FC;\n",
              "  }\n",
              "\n",
              "  [theme=dark] .colab-df-quickchart:hover {\n",
              "    background-color: #434B5C;\n",
              "    box-shadow: 0px 1px 3px 1px rgba(0, 0, 0, 0.15);\n",
              "    filter: drop-shadow(0px 1px 2px rgba(0, 0, 0, 0.3));\n",
              "    fill: #FFFFFF;\n",
              "  }\n",
              "</style>\n",
              "\n",
              "    <script>\n",
              "      async function quickchart(key) {\n",
              "        const containerElement = document.querySelector('#' + key);\n",
              "        const charts = await google.colab.kernel.invokeFunction(\n",
              "            'suggestCharts', [key], {});\n",
              "      }\n",
              "    </script>\n",
              "\n",
              "      <script>\n",
              "\n",
              "function displayQuickchartButton(domScope) {\n",
              "  let quickchartButtonEl =\n",
              "    domScope.querySelector('#df-12160c50-0c02-4528-8708-b66de9da8232 button.colab-df-quickchart');\n",
              "  quickchartButtonEl.style.display =\n",
              "    google.colab.kernel.accessAllowed ? 'block' : 'none';\n",
              "}\n",
              "\n",
              "        displayQuickchartButton(document);\n",
              "      </script>\n",
              "      <style>\n",
              "    .colab-df-container {\n",
              "      display:flex;\n",
              "      flex-wrap:wrap;\n",
              "      gap: 12px;\n",
              "    }\n",
              "\n",
              "    .colab-df-convert {\n",
              "      background-color: #E8F0FE;\n",
              "      border: none;\n",
              "      border-radius: 50%;\n",
              "      cursor: pointer;\n",
              "      display: none;\n",
              "      fill: #1967D2;\n",
              "      height: 32px;\n",
              "      padding: 0 0 0 0;\n",
              "      width: 32px;\n",
              "    }\n",
              "\n",
              "    .colab-df-convert:hover {\n",
              "      background-color: #E2EBFA;\n",
              "      box-shadow: 0px 1px 2px rgba(60, 64, 67, 0.3), 0px 1px 3px 1px rgba(60, 64, 67, 0.15);\n",
              "      fill: #174EA6;\n",
              "    }\n",
              "\n",
              "    [theme=dark] .colab-df-convert {\n",
              "      background-color: #3B4455;\n",
              "      fill: #D2E3FC;\n",
              "    }\n",
              "\n",
              "    [theme=dark] .colab-df-convert:hover {\n",
              "      background-color: #434B5C;\n",
              "      box-shadow: 0px 1px 3px 1px rgba(0, 0, 0, 0.15);\n",
              "      filter: drop-shadow(0px 1px 2px rgba(0, 0, 0, 0.3));\n",
              "      fill: #FFFFFF;\n",
              "    }\n",
              "  </style>\n",
              "\n",
              "      <script>\n",
              "        const buttonEl =\n",
              "          document.querySelector('#df-09d0a86c-e325-4cc1-bf72-3a8532ec07d1 button.colab-df-convert');\n",
              "        buttonEl.style.display =\n",
              "          google.colab.kernel.accessAllowed ? 'block' : 'none';\n",
              "\n",
              "        async function convertToInteractive(key) {\n",
              "          const element = document.querySelector('#df-09d0a86c-e325-4cc1-bf72-3a8532ec07d1');\n",
              "          const dataTable =\n",
              "            await google.colab.kernel.invokeFunction('convertToInteractive',\n",
              "                                                     [key], {});\n",
              "          if (!dataTable) return;\n",
              "\n",
              "          const docLinkHtml = 'Like what you see? Visit the ' +\n",
              "            '<a target=\"_blank\" href=https://colab.research.google.com/notebooks/data_table.ipynb>data table notebook</a>'\n",
              "            + ' to learn more about interactive tables.';\n",
              "          element.innerHTML = '';\n",
              "          dataTable['output_type'] = 'display_data';\n",
              "          await google.colab.output.renderOutput(dataTable, element);\n",
              "          const docLink = document.createElement('div');\n",
              "          docLink.innerHTML = docLinkHtml;\n",
              "          element.appendChild(docLink);\n",
              "        }\n",
              "      </script>\n",
              "    </div>\n",
              "  </div>\n"
            ],
            "text/plain": [
              "   aisle_id                  aisle  product_id               product_name  \\\n",
              "0         1  prepared soups salads         209        Italian Pasta Salad   \n",
              "1         1  prepared soups salads       12398              Caprese Salad   \n",
              "2        13         prepared meals       25407            Mashed Potatoes   \n",
              "3       108   other creams cheeses       27323  Pure & Natural Sour Cream   \n",
              "4       108   other creams cheeses       40593               Cream Cheese   \n",
              "\n",
              "   department_id  department  order_id  add_to_cart_order  reordered  user_id  \\\n",
              "0             20        deli     36461                6.0        1.0    50978   \n",
              "1             20        deli     36461                7.0        0.0    50978   \n",
              "2             20        deli     36461                5.0        0.0    50978   \n",
              "3             16  dairy eggs     36461                1.0        1.0    50978   \n",
              "4             16  dairy eggs     36461               11.0        1.0    50978   \n",
              "\n",
              "  eval_set  order_number  order_dow  order_hour_of_day  days_since_prior_order  \n",
              "0    train           7.0        6.0               13.0                    20.0  \n",
              "1    train           7.0        6.0               13.0                    20.0  \n",
              "2    train           7.0        6.0               13.0                    20.0  \n",
              "3    train           7.0        6.0               13.0                    20.0  \n",
              "4    train           7.0        6.0               13.0                    20.0  "
            ]
          },
          "execution_count": 100,
          "metadata": {},
          "output_type": "execute_result"
        }
      ],
      "source": [
        "df.head()"
      ]
    },
    {
      "cell_type": "code",
      "execution_count": 107,
      "metadata": {
        "id": "VWMc4Yu-QGUe"
      },
      "outputs": [],
      "source": [
        "import pandas as pd\n",
        "import numpy as np\n",
        "\n",
        "def add_time(df):\n",
        "    df.reset_index(drop=True)\n",
        "    df[\"order_time\"] = np.nan\n",
        "    days_since = df.columns.tolist().index(\"days_since_prior_order\")\n",
        "    hour_of_day = df.columns.tolist().index(\"order_hour_of_day\")\n",
        "    order_time = df.columns.tolist().index(\"order_time\")\n",
        "\n",
        "    df.iloc[0, order_time] = pd.Timestamp('Jan 1, 2015') + pd.to_timedelta(df.iloc[0, hour_of_day], unit='h')\n",
        "    for i in range(1, df.shape[0]):\n",
        "        try:\n",
        "            time_difference_days = pd.to_timedelta(df.iloc[i, days_since], unit='d')\n",
        "            time_difference_hours = pd.to_timedelta(df.iloc[i, hour_of_day], unit='h')\n",
        "            df.iloc[i, order_time] = df.iloc[i - 1, order_time] + time_difference_days + time_difference_hours\n",
        "        except pd.errors.OutOfBoundsDatetime:\n",
        "            df.iloc[i, order_time] = np.nan\n",
        "\n",
        "    to_drop = [\"order_number\", \"order_dow\", \"order_hour_of_day\", \"days_since_prior_order\", \"eval_set\"]\n",
        "    df.drop(to_drop, axis=1, inplace=True)\n",
        "\n",
        "    return df\n",
        "\n",
        "\n"
      ]
    },
    {
      "cell_type": "code",
      "execution_count": 108,
      "metadata": {
        "id": "KYyQ70ohQGUf"
      },
      "outputs": [],
      "source": [
        "df = add_time(df)"
      ]
    },
    {
      "cell_type": "code",
      "execution_count": 48,
      "metadata": {
        "colab": {
          "base_uri": "https://localhost:8080/",
          "height": 423
        },
        "id": "vRLT97NkQGUf",
        "outputId": "2e5a21ec-2896-453c-a7e0-007c48269564"
      },
      "outputs": [
        {
          "data": {
            "text/html": [
              "\n",
              "\n",
              "  <div id=\"df-7fe494e0-a0c1-43f0-a6d9-ab78b7cc72f0\">\n",
              "    <div class=\"colab-df-container\">\n",
              "      <div>\n",
              "<style scoped>\n",
              "    .dataframe tbody tr th:only-of-type {\n",
              "        vertical-align: middle;\n",
              "    }\n",
              "\n",
              "    .dataframe tbody tr th {\n",
              "        vertical-align: top;\n",
              "    }\n",
              "\n",
              "    .dataframe thead th {\n",
              "        text-align: right;\n",
              "    }\n",
              "</style>\n",
              "<table border=\"1\" class=\"dataframe\">\n",
              "  <thead>\n",
              "    <tr style=\"text-align: right;\">\n",
              "      <th></th>\n",
              "      <th>aisle_id</th>\n",
              "      <th>aisle</th>\n",
              "      <th>product_id</th>\n",
              "      <th>product_name</th>\n",
              "      <th>department_id</th>\n",
              "      <th>department</th>\n",
              "      <th>order_id</th>\n",
              "      <th>add_to_cart_order</th>\n",
              "      <th>reordered</th>\n",
              "      <th>user_id</th>\n",
              "      <th>order_time</th>\n",
              "    </tr>\n",
              "  </thead>\n",
              "  <tbody>\n",
              "    <tr>\n",
              "      <th>0</th>\n",
              "      <td>1</td>\n",
              "      <td>prepared soups salads</td>\n",
              "      <td>209</td>\n",
              "      <td>Italian Pasta Salad</td>\n",
              "      <td>20</td>\n",
              "      <td>deli</td>\n",
              "      <td>195206</td>\n",
              "      <td>18</td>\n",
              "      <td>1.0</td>\n",
              "      <td>1519</td>\n",
              "      <td>2015-01-01 09:00:00</td>\n",
              "    </tr>\n",
              "    <tr>\n",
              "      <th>1</th>\n",
              "      <td>1</td>\n",
              "      <td>prepared soups salads</td>\n",
              "      <td>26047</td>\n",
              "      <td>Tuna Salad</td>\n",
              "      <td>20</td>\n",
              "      <td>deli</td>\n",
              "      <td>195206</td>\n",
              "      <td>16</td>\n",
              "      <td>1.0</td>\n",
              "      <td>1519</td>\n",
              "      <td>2015-01-06 18:00:00</td>\n",
              "    </tr>\n",
              "    <tr>\n",
              "      <th>2</th>\n",
              "      <td>1</td>\n",
              "      <td>prepared soups salads</td>\n",
              "      <td>26714</td>\n",
              "      <td>Chicken Salad</td>\n",
              "      <td>20</td>\n",
              "      <td>deli</td>\n",
              "      <td>195206</td>\n",
              "      <td>15</td>\n",
              "      <td>1.0</td>\n",
              "      <td>1519</td>\n",
              "      <td>2015-01-12 03:00:00</td>\n",
              "    </tr>\n",
              "    <tr>\n",
              "      <th>3</th>\n",
              "      <td>1</td>\n",
              "      <td>prepared soups salads</td>\n",
              "      <td>47979</td>\n",
              "      <td>Butternut Squash Bisque</td>\n",
              "      <td>20</td>\n",
              "      <td>deli</td>\n",
              "      <td>195206</td>\n",
              "      <td>17</td>\n",
              "      <td>1.0</td>\n",
              "      <td>1519</td>\n",
              "      <td>2015-01-17 12:00:00</td>\n",
              "    </tr>\n",
              "    <tr>\n",
              "      <th>4</th>\n",
              "      <td>21</td>\n",
              "      <td>packaged cheese</td>\n",
              "      <td>7781</td>\n",
              "      <td>Organic Sticks Low Moisture Part Skim Mozzarel...</td>\n",
              "      <td>16</td>\n",
              "      <td>dairy eggs</td>\n",
              "      <td>195206</td>\n",
              "      <td>10</td>\n",
              "      <td>0.0</td>\n",
              "      <td>1519</td>\n",
              "      <td>2015-01-22 21:00:00</td>\n",
              "    </tr>\n",
              "  </tbody>\n",
              "</table>\n",
              "</div>\n",
              "      <button class=\"colab-df-convert\" onclick=\"convertToInteractive('df-7fe494e0-a0c1-43f0-a6d9-ab78b7cc72f0')\"\n",
              "              title=\"Convert this dataframe to an interactive table.\"\n",
              "              style=\"display:none;\">\n",
              "\n",
              "  <svg xmlns=\"http://www.w3.org/2000/svg\" height=\"24px\"viewBox=\"0 0 24 24\"\n",
              "       width=\"24px\">\n",
              "    <path d=\"M0 0h24v24H0V0z\" fill=\"none\"/>\n",
              "    <path d=\"M18.56 5.44l.94 2.06.94-2.06 2.06-.94-2.06-.94-.94-2.06-.94 2.06-2.06.94zm-11 1L8.5 8.5l.94-2.06 2.06-.94-2.06-.94L8.5 2.5l-.94 2.06-2.06.94zm10 10l.94 2.06.94-2.06 2.06-.94-2.06-.94-.94-2.06-.94 2.06-2.06.94z\"/><path d=\"M17.41 7.96l-1.37-1.37c-.4-.4-.92-.59-1.43-.59-.52 0-1.04.2-1.43.59L10.3 9.45l-7.72 7.72c-.78.78-.78 2.05 0 2.83L4 21.41c.39.39.9.59 1.41.59.51 0 1.02-.2 1.41-.59l7.78-7.78 2.81-2.81c.8-.78.8-2.07 0-2.86zM5.41 20L4 18.59l7.72-7.72 1.47 1.35L5.41 20z\"/>\n",
              "  </svg>\n",
              "      </button>\n",
              "\n",
              "\n",
              "\n",
              "    <div id=\"df-49c31361-cd81-4e59-b6a4-9744eeb1624e\">\n",
              "      <button class=\"colab-df-quickchart\" onclick=\"quickchart('df-49c31361-cd81-4e59-b6a4-9744eeb1624e')\"\n",
              "              title=\"Suggest charts.\"\n",
              "              style=\"display:none;\">\n",
              "\n",
              "<svg xmlns=\"http://www.w3.org/2000/svg\" height=\"24px\"viewBox=\"0 0 24 24\"\n",
              "     width=\"24px\">\n",
              "    <g>\n",
              "        <path d=\"M19 3H5c-1.1 0-2 .9-2 2v14c0 1.1.9 2 2 2h14c1.1 0 2-.9 2-2V5c0-1.1-.9-2-2-2zM9 17H7v-7h2v7zm4 0h-2V7h2v10zm4 0h-2v-4h2v4z\"/>\n",
              "    </g>\n",
              "</svg>\n",
              "      </button>\n",
              "    </div>\n",
              "\n",
              "<style>\n",
              "  .colab-df-quickchart {\n",
              "    background-color: #E8F0FE;\n",
              "    border: none;\n",
              "    border-radius: 50%;\n",
              "    cursor: pointer;\n",
              "    display: none;\n",
              "    fill: #1967D2;\n",
              "    height: 32px;\n",
              "    padding: 0 0 0 0;\n",
              "    width: 32px;\n",
              "  }\n",
              "\n",
              "  .colab-df-quickchart:hover {\n",
              "    background-color: #E2EBFA;\n",
              "    box-shadow: 0px 1px 2px rgba(60, 64, 67, 0.3), 0px 1px 3px 1px rgba(60, 64, 67, 0.15);\n",
              "    fill: #174EA6;\n",
              "  }\n",
              "\n",
              "  [theme=dark] .colab-df-quickchart {\n",
              "    background-color: #3B4455;\n",
              "    fill: #D2E3FC;\n",
              "  }\n",
              "\n",
              "  [theme=dark] .colab-df-quickchart:hover {\n",
              "    background-color: #434B5C;\n",
              "    box-shadow: 0px 1px 3px 1px rgba(0, 0, 0, 0.15);\n",
              "    filter: drop-shadow(0px 1px 2px rgba(0, 0, 0, 0.3));\n",
              "    fill: #FFFFFF;\n",
              "  }\n",
              "</style>\n",
              "\n",
              "    <script>\n",
              "      async function quickchart(key) {\n",
              "        const containerElement = document.querySelector('#' + key);\n",
              "        const charts = await google.colab.kernel.invokeFunction(\n",
              "            'suggestCharts', [key], {});\n",
              "      }\n",
              "    </script>\n",
              "\n",
              "      <script>\n",
              "\n",
              "function displayQuickchartButton(domScope) {\n",
              "  let quickchartButtonEl =\n",
              "    domScope.querySelector('#df-49c31361-cd81-4e59-b6a4-9744eeb1624e button.colab-df-quickchart');\n",
              "  quickchartButtonEl.style.display =\n",
              "    google.colab.kernel.accessAllowed ? 'block' : 'none';\n",
              "}\n",
              "\n",
              "        displayQuickchartButton(document);\n",
              "      </script>\n",
              "      <style>\n",
              "    .colab-df-container {\n",
              "      display:flex;\n",
              "      flex-wrap:wrap;\n",
              "      gap: 12px;\n",
              "    }\n",
              "\n",
              "    .colab-df-convert {\n",
              "      background-color: #E8F0FE;\n",
              "      border: none;\n",
              "      border-radius: 50%;\n",
              "      cursor: pointer;\n",
              "      display: none;\n",
              "      fill: #1967D2;\n",
              "      height: 32px;\n",
              "      padding: 0 0 0 0;\n",
              "      width: 32px;\n",
              "    }\n",
              "\n",
              "    .colab-df-convert:hover {\n",
              "      background-color: #E2EBFA;\n",
              "      box-shadow: 0px 1px 2px rgba(60, 64, 67, 0.3), 0px 1px 3px 1px rgba(60, 64, 67, 0.15);\n",
              "      fill: #174EA6;\n",
              "    }\n",
              "\n",
              "    [theme=dark] .colab-df-convert {\n",
              "      background-color: #3B4455;\n",
              "      fill: #D2E3FC;\n",
              "    }\n",
              "\n",
              "    [theme=dark] .colab-df-convert:hover {\n",
              "      background-color: #434B5C;\n",
              "      box-shadow: 0px 1px 3px 1px rgba(0, 0, 0, 0.15);\n",
              "      filter: drop-shadow(0px 1px 2px rgba(0, 0, 0, 0.3));\n",
              "      fill: #FFFFFF;\n",
              "    }\n",
              "  </style>\n",
              "\n",
              "      <script>\n",
              "        const buttonEl =\n",
              "          document.querySelector('#df-7fe494e0-a0c1-43f0-a6d9-ab78b7cc72f0 button.colab-df-convert');\n",
              "        buttonEl.style.display =\n",
              "          google.colab.kernel.accessAllowed ? 'block' : 'none';\n",
              "\n",
              "        async function convertToInteractive(key) {\n",
              "          const element = document.querySelector('#df-7fe494e0-a0c1-43f0-a6d9-ab78b7cc72f0');\n",
              "          const dataTable =\n",
              "            await google.colab.kernel.invokeFunction('convertToInteractive',\n",
              "                                                     [key], {});\n",
              "          if (!dataTable) return;\n",
              "\n",
              "          const docLinkHtml = 'Like what you see? Visit the ' +\n",
              "            '<a target=\"_blank\" href=https://colab.research.google.com/notebooks/data_table.ipynb>data table notebook</a>'\n",
              "            + ' to learn more about interactive tables.';\n",
              "          element.innerHTML = '';\n",
              "          dataTable['output_type'] = 'display_data';\n",
              "          await google.colab.output.renderOutput(dataTable, element);\n",
              "          const docLink = document.createElement('div');\n",
              "          docLink.innerHTML = docLinkHtml;\n",
              "          element.appendChild(docLink);\n",
              "        }\n",
              "      </script>\n",
              "    </div>\n",
              "  </div>\n"
            ],
            "text/plain": [
              "   aisle_id                  aisle  product_id  \\\n",
              "0         1  prepared soups salads         209   \n",
              "1         1  prepared soups salads       26047   \n",
              "2         1  prepared soups salads       26714   \n",
              "3         1  prepared soups salads       47979   \n",
              "4        21        packaged cheese        7781   \n",
              "\n",
              "                                        product_name  department_id  \\\n",
              "0                                Italian Pasta Salad             20   \n",
              "1                                         Tuna Salad             20   \n",
              "2                                      Chicken Salad             20   \n",
              "3                            Butternut Squash Bisque             20   \n",
              "4  Organic Sticks Low Moisture Part Skim Mozzarel...             16   \n",
              "\n",
              "   department  order_id  add_to_cart_order  reordered  user_id  \\\n",
              "0        deli    195206                 18        1.0     1519   \n",
              "1        deli    195206                 16        1.0     1519   \n",
              "2        deli    195206                 15        1.0     1519   \n",
              "3        deli    195206                 17        1.0     1519   \n",
              "4  dairy eggs    195206                 10        0.0     1519   \n",
              "\n",
              "            order_time  \n",
              "0  2015-01-01 09:00:00  \n",
              "1  2015-01-06 18:00:00  \n",
              "2  2015-01-12 03:00:00  \n",
              "3  2015-01-17 12:00:00  \n",
              "4  2015-01-22 21:00:00  "
            ]
          },
          "execution_count": 48,
          "metadata": {},
          "output_type": "execute_result"
        }
      ],
      "source": [
        "df.head()"
      ]
    },
    {
      "cell_type": "code",
      "execution_count": 109,
      "metadata": {
        "colab": {
          "base_uri": "https://localhost:8080/"
        },
        "id": "PIj0pAvxhssE",
        "outputId": "f7f0daac-cdaa-4fc6-fc78-7f07a5b7cd7b"
      },
      "outputs": [
        {
          "data": {
            "text/plain": [
              "aisle_id                 0\n",
              "aisle                    0\n",
              "product_id               0\n",
              "product_name             0\n",
              "department_id            0\n",
              "department               0\n",
              "order_id                 0\n",
              "add_to_cart_order        0\n",
              "reordered                0\n",
              "user_id                  0\n",
              "order_time           33326\n",
              "dtype: int64"
            ]
          },
          "execution_count": 109,
          "metadata": {},
          "output_type": "execute_result"
        }
      ],
      "source": [
        "df.isnull().sum()"
      ]
    },
    {
      "cell_type": "markdown",
      "metadata": {},
      "source": [
        "# Prediction Engineering\n",
        "Will customers purchase a product within the next shopping period?\n",
        "\n",
        "In this prediction problem, there are two parameters:\n",
        "\n",
        "* The product that a customer can purchase.\n",
        "\n",
        "* The length of the shopping period.\n",
        "\n",
        "You can change these parameters to create different prediction problems. For example, will a customer purchase a banana within the next 3 days or an avocado within the next three weeks? These variations can be done by simply tweaking the parameters. This helps you explore different scenarios that are crucial for making better decisions."
      ]
    },
    {
      "cell_type": "markdown",
      "metadata": {},
      "source": [
        "# Defining the Labeling Function\n",
        "Start by defining a labeling function that checks if a customer bought a given product. Make the product a parameter of the function. Our labeling function is used by a label maker to extract the training examples."
      ]
    },
    {
      "cell_type": "code",
      "execution_count": 110,
      "metadata": {
        "id": "70Ofhys8Qkzi"
      },
      "outputs": [],
      "source": [
        "def bought_product(ds, product_name):\n",
        "    return ds.product_name.str.contains(product_name).any()"
      ]
    },
    {
      "cell_type": "code",
      "execution_count": 10,
      "metadata": {
        "id": "qsj5WLjPQ2nS"
      },
      "outputs": [],
      "source": [
        "# %pip install composeml\n",
        "# Run this cell for if this is the first exucution"
      ]
    },
    {
      "cell_type": "markdown",
      "metadata": {},
      "source": [
        "# Representing the Prediction Problem\n",
        "Represent the prediction problem by creating a label maker with the following parameters:\n",
        "\n",
        "* target_dataframe_index as the columns for the customer ID, since you want to process orders for each customer.\n",
        "\n",
        "* labeling_function as the function you defined previously.\n",
        "\n",
        "* time_index as the column for the order time. The shoppings periods are based on this time index.\n",
        "\n",
        "* window_size as the length of a shopping period. You can easily change this parameter to create variations of the prediction problem."
      ]
    },
    {
      "cell_type": "code",
      "execution_count": 111,
      "metadata": {
        "id": "FjDGrUodQ0UI"
      },
      "outputs": [],
      "source": [
        "import composeml as cp\n",
        "\n",
        "lm = cp.LabelMaker(\n",
        "    target_dataframe_index='user_id',\n",
        "    time_index='order_time',\n",
        "    labeling_function=bought_product,\n",
        "    window_size='3d',\n",
        ")"
      ]
    },
    {
      "cell_type": "code",
      "execution_count": 112,
      "metadata": {
        "id": "LiiUGAMUQ85-"
      },
      "outputs": [],
      "source": [
        "df = df.dropna()"
      ]
    },
    {
      "cell_type": "code",
      "execution_count": 113,
      "metadata": {
        "colab": {
          "base_uri": "https://localhost:8080/"
        },
        "id": "pTL8dDdTRBgA",
        "outputId": "26a7c25d-2433-456f-c7c9-044c1ea70a84"
      },
      "outputs": [
        {
          "data": {
            "text/plain": [
              "aisle_id             0\n",
              "aisle                0\n",
              "product_id           0\n",
              "product_name         0\n",
              "department_id        0\n",
              "department           0\n",
              "order_id             0\n",
              "add_to_cart_order    0\n",
              "reordered            0\n",
              "user_id              0\n",
              "order_time           0\n",
              "dtype: int64"
            ]
          },
          "execution_count": 113,
          "metadata": {},
          "output_type": "execute_result"
        }
      ],
      "source": [
        "df.isnull().sum()"
      ]
    },
    {
      "cell_type": "code",
      "execution_count": 114,
      "metadata": {
        "colab": {
          "base_uri": "https://localhost:8080/",
          "height": 745
        },
        "id": "aOXKnqdWW2rz",
        "outputId": "936ffbc7-0deb-41d0-b310-ca09f1585577"
      },
      "outputs": [
        {
          "data": {
            "text/html": [
              "\n",
              "\n",
              "  <div id=\"df-d3b5fa0c-4f82-4788-b94a-009fbd94153f\">\n",
              "    <div class=\"colab-df-container\">\n",
              "      <div>\n",
              "<style scoped>\n",
              "    .dataframe tbody tr th:only-of-type {\n",
              "        vertical-align: middle;\n",
              "    }\n",
              "\n",
              "    .dataframe tbody tr th {\n",
              "        vertical-align: top;\n",
              "    }\n",
              "\n",
              "    .dataframe thead th {\n",
              "        text-align: right;\n",
              "    }\n",
              "</style>\n",
              "<table border=\"1\" class=\"dataframe\">\n",
              "  <thead>\n",
              "    <tr style=\"text-align: right;\">\n",
              "      <th></th>\n",
              "      <th>aisle_id</th>\n",
              "      <th>aisle</th>\n",
              "      <th>product_id</th>\n",
              "      <th>product_name</th>\n",
              "      <th>department_id</th>\n",
              "      <th>department</th>\n",
              "      <th>order_id</th>\n",
              "      <th>add_to_cart_order</th>\n",
              "      <th>reordered</th>\n",
              "      <th>user_id</th>\n",
              "      <th>order_time</th>\n",
              "    </tr>\n",
              "  </thead>\n",
              "  <tbody>\n",
              "    <tr>\n",
              "      <th>0</th>\n",
              "      <td>1</td>\n",
              "      <td>prepared soups salads</td>\n",
              "      <td>209</td>\n",
              "      <td>Italian Pasta Salad</td>\n",
              "      <td>20</td>\n",
              "      <td>deli</td>\n",
              "      <td>36461</td>\n",
              "      <td>6.0</td>\n",
              "      <td>1.0</td>\n",
              "      <td>50978</td>\n",
              "      <td>2015-01-01 13:00:00</td>\n",
              "    </tr>\n",
              "    <tr>\n",
              "      <th>1</th>\n",
              "      <td>1</td>\n",
              "      <td>prepared soups salads</td>\n",
              "      <td>12398</td>\n",
              "      <td>Caprese Salad</td>\n",
              "      <td>20</td>\n",
              "      <td>deli</td>\n",
              "      <td>36461</td>\n",
              "      <td>7.0</td>\n",
              "      <td>0.0</td>\n",
              "      <td>50978</td>\n",
              "      <td>2015-01-22 02:00:00</td>\n",
              "    </tr>\n",
              "    <tr>\n",
              "      <th>2</th>\n",
              "      <td>13</td>\n",
              "      <td>prepared meals</td>\n",
              "      <td>25407</td>\n",
              "      <td>Mashed Potatoes</td>\n",
              "      <td>20</td>\n",
              "      <td>deli</td>\n",
              "      <td>36461</td>\n",
              "      <td>5.0</td>\n",
              "      <td>0.0</td>\n",
              "      <td>50978</td>\n",
              "      <td>2015-02-11 15:00:00</td>\n",
              "    </tr>\n",
              "    <tr>\n",
              "      <th>3</th>\n",
              "      <td>108</td>\n",
              "      <td>other creams cheeses</td>\n",
              "      <td>27323</td>\n",
              "      <td>Pure &amp; Natural Sour Cream</td>\n",
              "      <td>16</td>\n",
              "      <td>dairy eggs</td>\n",
              "      <td>36461</td>\n",
              "      <td>1.0</td>\n",
              "      <td>1.0</td>\n",
              "      <td>50978</td>\n",
              "      <td>2015-03-04 04:00:00</td>\n",
              "    </tr>\n",
              "    <tr>\n",
              "      <th>4</th>\n",
              "      <td>108</td>\n",
              "      <td>other creams cheeses</td>\n",
              "      <td>40593</td>\n",
              "      <td>Cream Cheese</td>\n",
              "      <td>16</td>\n",
              "      <td>dairy eggs</td>\n",
              "      <td>36461</td>\n",
              "      <td>11.0</td>\n",
              "      <td>1.0</td>\n",
              "      <td>50978</td>\n",
              "      <td>2015-03-24 17:00:00</td>\n",
              "    </tr>\n",
              "    <tr>\n",
              "      <th>...</th>\n",
              "      <td>...</td>\n",
              "      <td>...</td>\n",
              "      <td>...</td>\n",
              "      <td>...</td>\n",
              "      <td>...</td>\n",
              "      <td>...</td>\n",
              "      <td>...</td>\n",
              "      <td>...</td>\n",
              "      <td>...</td>\n",
              "      <td>...</td>\n",
              "      <td>...</td>\n",
              "    </tr>\n",
              "    <tr>\n",
              "      <th>5328</th>\n",
              "      <td>83</td>\n",
              "      <td>fresh vegetables</td>\n",
              "      <td>22935</td>\n",
              "      <td>Organic Yellow Onion</td>\n",
              "      <td>4</td>\n",
              "      <td>produce</td>\n",
              "      <td>263224</td>\n",
              "      <td>1.0</td>\n",
              "      <td>1.0</td>\n",
              "      <td>20085</td>\n",
              "      <td>2262-03-02 08:00:00</td>\n",
              "    </tr>\n",
              "    <tr>\n",
              "      <th>5329</th>\n",
              "      <td>83</td>\n",
              "      <td>fresh vegetables</td>\n",
              "      <td>27104</td>\n",
              "      <td>Fresh Cauliflower</td>\n",
              "      <td>4</td>\n",
              "      <td>produce</td>\n",
              "      <td>263224</td>\n",
              "      <td>14.0</td>\n",
              "      <td>0.0</td>\n",
              "      <td>20085</td>\n",
              "      <td>2262-03-06 23:00:00</td>\n",
              "    </tr>\n",
              "    <tr>\n",
              "      <th>5330</th>\n",
              "      <td>83</td>\n",
              "      <td>fresh vegetables</td>\n",
              "      <td>48679</td>\n",
              "      <td>Organic Garnet Sweet Potato (Yam)</td>\n",
              "      <td>4</td>\n",
              "      <td>produce</td>\n",
              "      <td>263224</td>\n",
              "      <td>13.0</td>\n",
              "      <td>1.0</td>\n",
              "      <td>20085</td>\n",
              "      <td>2262-03-11 14:00:00</td>\n",
              "    </tr>\n",
              "    <tr>\n",
              "      <th>5331</th>\n",
              "      <td>116</td>\n",
              "      <td>frozen produce</td>\n",
              "      <td>2228</td>\n",
              "      <td>Organic Frozen Mango Chunks</td>\n",
              "      <td>1</td>\n",
              "      <td>frozen</td>\n",
              "      <td>263224</td>\n",
              "      <td>10.0</td>\n",
              "      <td>0.0</td>\n",
              "      <td>20085</td>\n",
              "      <td>2262-03-16 05:00:00</td>\n",
              "    </tr>\n",
              "    <tr>\n",
              "      <th>5332</th>\n",
              "      <td>69</td>\n",
              "      <td>soup broth bouillon</td>\n",
              "      <td>467</td>\n",
              "      <td>Soup, Lower Sodium, Organic, Split Pea</td>\n",
              "      <td>15</td>\n",
              "      <td>canned goods</td>\n",
              "      <td>263224</td>\n",
              "      <td>12.0</td>\n",
              "      <td>0.0</td>\n",
              "      <td>20085</td>\n",
              "      <td>2262-03-20 20:00:00</td>\n",
              "    </tr>\n",
              "  </tbody>\n",
              "</table>\n",
              "<p>5333 rows × 11 columns</p>\n",
              "</div>\n",
              "      <button class=\"colab-df-convert\" onclick=\"convertToInteractive('df-d3b5fa0c-4f82-4788-b94a-009fbd94153f')\"\n",
              "              title=\"Convert this dataframe to an interactive table.\"\n",
              "              style=\"display:none;\">\n",
              "\n",
              "  <svg xmlns=\"http://www.w3.org/2000/svg\" height=\"24px\"viewBox=\"0 0 24 24\"\n",
              "       width=\"24px\">\n",
              "    <path d=\"M0 0h24v24H0V0z\" fill=\"none\"/>\n",
              "    <path d=\"M18.56 5.44l.94 2.06.94-2.06 2.06-.94-2.06-.94-.94-2.06-.94 2.06-2.06.94zm-11 1L8.5 8.5l.94-2.06 2.06-.94-2.06-.94L8.5 2.5l-.94 2.06-2.06.94zm10 10l.94 2.06.94-2.06 2.06-.94-2.06-.94-.94-2.06-.94 2.06-2.06.94z\"/><path d=\"M17.41 7.96l-1.37-1.37c-.4-.4-.92-.59-1.43-.59-.52 0-1.04.2-1.43.59L10.3 9.45l-7.72 7.72c-.78.78-.78 2.05 0 2.83L4 21.41c.39.39.9.59 1.41.59.51 0 1.02-.2 1.41-.59l7.78-7.78 2.81-2.81c.8-.78.8-2.07 0-2.86zM5.41 20L4 18.59l7.72-7.72 1.47 1.35L5.41 20z\"/>\n",
              "  </svg>\n",
              "      </button>\n",
              "\n",
              "\n",
              "\n",
              "    <div id=\"df-2df3e45f-dfde-492e-a0de-081983a8939c\">\n",
              "      <button class=\"colab-df-quickchart\" onclick=\"quickchart('df-2df3e45f-dfde-492e-a0de-081983a8939c')\"\n",
              "              title=\"Suggest charts.\"\n",
              "              style=\"display:none;\">\n",
              "\n",
              "<svg xmlns=\"http://www.w3.org/2000/svg\" height=\"24px\"viewBox=\"0 0 24 24\"\n",
              "     width=\"24px\">\n",
              "    <g>\n",
              "        <path d=\"M19 3H5c-1.1 0-2 .9-2 2v14c0 1.1.9 2 2 2h14c1.1 0 2-.9 2-2V5c0-1.1-.9-2-2-2zM9 17H7v-7h2v7zm4 0h-2V7h2v10zm4 0h-2v-4h2v4z\"/>\n",
              "    </g>\n",
              "</svg>\n",
              "      </button>\n",
              "    </div>\n",
              "\n",
              "<style>\n",
              "  .colab-df-quickchart {\n",
              "    background-color: #E8F0FE;\n",
              "    border: none;\n",
              "    border-radius: 50%;\n",
              "    cursor: pointer;\n",
              "    display: none;\n",
              "    fill: #1967D2;\n",
              "    height: 32px;\n",
              "    padding: 0 0 0 0;\n",
              "    width: 32px;\n",
              "  }\n",
              "\n",
              "  .colab-df-quickchart:hover {\n",
              "    background-color: #E2EBFA;\n",
              "    box-shadow: 0px 1px 2px rgba(60, 64, 67, 0.3), 0px 1px 3px 1px rgba(60, 64, 67, 0.15);\n",
              "    fill: #174EA6;\n",
              "  }\n",
              "\n",
              "  [theme=dark] .colab-df-quickchart {\n",
              "    background-color: #3B4455;\n",
              "    fill: #D2E3FC;\n",
              "  }\n",
              "\n",
              "  [theme=dark] .colab-df-quickchart:hover {\n",
              "    background-color: #434B5C;\n",
              "    box-shadow: 0px 1px 3px 1px rgba(0, 0, 0, 0.15);\n",
              "    filter: drop-shadow(0px 1px 2px rgba(0, 0, 0, 0.3));\n",
              "    fill: #FFFFFF;\n",
              "  }\n",
              "</style>\n",
              "\n",
              "    <script>\n",
              "      async function quickchart(key) {\n",
              "        const containerElement = document.querySelector('#' + key);\n",
              "        const charts = await google.colab.kernel.invokeFunction(\n",
              "            'suggestCharts', [key], {});\n",
              "      }\n",
              "    </script>\n",
              "\n",
              "      <script>\n",
              "\n",
              "function displayQuickchartButton(domScope) {\n",
              "  let quickchartButtonEl =\n",
              "    domScope.querySelector('#df-2df3e45f-dfde-492e-a0de-081983a8939c button.colab-df-quickchart');\n",
              "  quickchartButtonEl.style.display =\n",
              "    google.colab.kernel.accessAllowed ? 'block' : 'none';\n",
              "}\n",
              "\n",
              "        displayQuickchartButton(document);\n",
              "      </script>\n",
              "      <style>\n",
              "    .colab-df-container {\n",
              "      display:flex;\n",
              "      flex-wrap:wrap;\n",
              "      gap: 12px;\n",
              "    }\n",
              "\n",
              "    .colab-df-convert {\n",
              "      background-color: #E8F0FE;\n",
              "      border: none;\n",
              "      border-radius: 50%;\n",
              "      cursor: pointer;\n",
              "      display: none;\n",
              "      fill: #1967D2;\n",
              "      height: 32px;\n",
              "      padding: 0 0 0 0;\n",
              "      width: 32px;\n",
              "    }\n",
              "\n",
              "    .colab-df-convert:hover {\n",
              "      background-color: #E2EBFA;\n",
              "      box-shadow: 0px 1px 2px rgba(60, 64, 67, 0.3), 0px 1px 3px 1px rgba(60, 64, 67, 0.15);\n",
              "      fill: #174EA6;\n",
              "    }\n",
              "\n",
              "    [theme=dark] .colab-df-convert {\n",
              "      background-color: #3B4455;\n",
              "      fill: #D2E3FC;\n",
              "    }\n",
              "\n",
              "    [theme=dark] .colab-df-convert:hover {\n",
              "      background-color: #434B5C;\n",
              "      box-shadow: 0px 1px 3px 1px rgba(0, 0, 0, 0.15);\n",
              "      filter: drop-shadow(0px 1px 2px rgba(0, 0, 0, 0.3));\n",
              "      fill: #FFFFFF;\n",
              "    }\n",
              "  </style>\n",
              "\n",
              "      <script>\n",
              "        const buttonEl =\n",
              "          document.querySelector('#df-d3b5fa0c-4f82-4788-b94a-009fbd94153f button.colab-df-convert');\n",
              "        buttonEl.style.display =\n",
              "          google.colab.kernel.accessAllowed ? 'block' : 'none';\n",
              "\n",
              "        async function convertToInteractive(key) {\n",
              "          const element = document.querySelector('#df-d3b5fa0c-4f82-4788-b94a-009fbd94153f');\n",
              "          const dataTable =\n",
              "            await google.colab.kernel.invokeFunction('convertToInteractive',\n",
              "                                                     [key], {});\n",
              "          if (!dataTable) return;\n",
              "\n",
              "          const docLinkHtml = 'Like what you see? Visit the ' +\n",
              "            '<a target=\"_blank\" href=https://colab.research.google.com/notebooks/data_table.ipynb>data table notebook</a>'\n",
              "            + ' to learn more about interactive tables.';\n",
              "          element.innerHTML = '';\n",
              "          dataTable['output_type'] = 'display_data';\n",
              "          await google.colab.output.renderOutput(dataTable, element);\n",
              "          const docLink = document.createElement('div');\n",
              "          docLink.innerHTML = docLinkHtml;\n",
              "          element.appendChild(docLink);\n",
              "        }\n",
              "      </script>\n",
              "    </div>\n",
              "  </div>\n"
            ],
            "text/plain": [
              "      aisle_id                  aisle  product_id  \\\n",
              "0            1  prepared soups salads         209   \n",
              "1            1  prepared soups salads       12398   \n",
              "2           13         prepared meals       25407   \n",
              "3          108   other creams cheeses       27323   \n",
              "4          108   other creams cheeses       40593   \n",
              "...        ...                    ...         ...   \n",
              "5328        83       fresh vegetables       22935   \n",
              "5329        83       fresh vegetables       27104   \n",
              "5330        83       fresh vegetables       48679   \n",
              "5331       116         frozen produce        2228   \n",
              "5332        69    soup broth bouillon         467   \n",
              "\n",
              "                                product_name  department_id    department  \\\n",
              "0                        Italian Pasta Salad             20          deli   \n",
              "1                              Caprese Salad             20          deli   \n",
              "2                            Mashed Potatoes             20          deli   \n",
              "3                  Pure & Natural Sour Cream             16    dairy eggs   \n",
              "4                               Cream Cheese             16    dairy eggs   \n",
              "...                                      ...            ...           ...   \n",
              "5328                    Organic Yellow Onion              4       produce   \n",
              "5329                       Fresh Cauliflower              4       produce   \n",
              "5330       Organic Garnet Sweet Potato (Yam)              4       produce   \n",
              "5331             Organic Frozen Mango Chunks              1        frozen   \n",
              "5332  Soup, Lower Sodium, Organic, Split Pea             15  canned goods   \n",
              "\n",
              "      order_id  add_to_cart_order  reordered  user_id           order_time  \n",
              "0        36461                6.0        1.0    50978  2015-01-01 13:00:00  \n",
              "1        36461                7.0        0.0    50978  2015-01-22 02:00:00  \n",
              "2        36461                5.0        0.0    50978  2015-02-11 15:00:00  \n",
              "3        36461                1.0        1.0    50978  2015-03-04 04:00:00  \n",
              "4        36461               11.0        1.0    50978  2015-03-24 17:00:00  \n",
              "...        ...                ...        ...      ...                  ...  \n",
              "5328    263224                1.0        1.0    20085  2262-03-02 08:00:00  \n",
              "5329    263224               14.0        0.0    20085  2262-03-06 23:00:00  \n",
              "5330    263224               13.0        1.0    20085  2262-03-11 14:00:00  \n",
              "5331    263224               10.0        0.0    20085  2262-03-16 05:00:00  \n",
              "5332    263224               12.0        0.0    20085  2262-03-20 20:00:00  \n",
              "\n",
              "[5333 rows x 11 columns]"
            ]
          },
          "execution_count": 114,
          "metadata": {},
          "output_type": "execute_result"
        }
      ],
      "source": [
        "df"
      ]
    },
    {
      "cell_type": "code",
      "execution_count": 115,
      "metadata": {
        "colab": {
          "base_uri": "https://localhost:8080/"
        },
        "id": "4wwO6IIld8r0",
        "outputId": "fadca56d-f89c-418f-8fdf-5cfa3169f094"
      },
      "outputs": [
        {
          "data": {
            "text/plain": [
              "0    Banana\n",
              "Name: product_name, dtype: object"
            ]
          },
          "execution_count": 115,
          "metadata": {},
          "output_type": "execute_result"
        }
      ],
      "source": [
        "df['product_name'].mode()"
      ]
    },
    {
      "cell_type": "markdown",
      "metadata": {},
      "source": [
        "# Finding the Training Examples\n",
        "Run a search to get the training examples by using the following parameters:\n",
        "\n",
        "* The grocery orders sorted by the order time, since the search expects the orders to be sorted chronologically. Otherwise, an error is raised.\n",
        "\n",
        "* num_examples_per_instance to find the number of training examples per customer. In this case, the search returns all existing examples.\n",
        "\n",
        "* product_name as the product to check for purchases. This parameter gets passed directly to the our labeling function.\n",
        "\n",
        "* minimum_data as the amount of data that is used to make features for the first training example."
      ]
    },
    {
      "cell_type": "code",
      "execution_count": 116,
      "metadata": {
        "colab": {
          "base_uri": "https://localhost:8080/",
          "height": 206
        },
        "id": "QiqyPNm2REUG",
        "outputId": "8f8873fb-5cef-4507-cd88-d39e065dfd4b"
      },
      "outputs": [
        {
          "data": {
            "text/html": [
              "\n",
              "\n",
              "  <div id=\"df-52acde1a-7cfd-4ed4-8fac-93a70546c981\">\n",
              "    <div class=\"colab-df-container\">\n",
              "      <div>\n",
              "<style scoped>\n",
              "    .dataframe tbody tr th:only-of-type {\n",
              "        vertical-align: middle;\n",
              "    }\n",
              "\n",
              "    .dataframe tbody tr th {\n",
              "        vertical-align: top;\n",
              "    }\n",
              "\n",
              "    .dataframe thead th {\n",
              "        text-align: right;\n",
              "    }\n",
              "</style>\n",
              "<table border=\"1\" class=\"dataframe\">\n",
              "  <thead>\n",
              "    <tr style=\"text-align: right;\">\n",
              "      <th></th>\n",
              "      <th>user_id</th>\n",
              "      <th>time</th>\n",
              "      <th>bought_product</th>\n",
              "    </tr>\n",
              "  </thead>\n",
              "  <tbody>\n",
              "    <tr>\n",
              "      <th>0</th>\n",
              "      <td>341</td>\n",
              "      <td>2037-12-03 19:00:00</td>\n",
              "      <td>False</td>\n",
              "    </tr>\n",
              "    <tr>\n",
              "      <th>1</th>\n",
              "      <td>341</td>\n",
              "      <td>2038-01-02 19:00:00</td>\n",
              "      <td>False</td>\n",
              "    </tr>\n",
              "    <tr>\n",
              "      <th>2</th>\n",
              "      <td>341</td>\n",
              "      <td>2038-02-01 19:00:00</td>\n",
              "      <td>False</td>\n",
              "    </tr>\n",
              "    <tr>\n",
              "      <th>3</th>\n",
              "      <td>341</td>\n",
              "      <td>2038-03-03 19:00:00</td>\n",
              "      <td>False</td>\n",
              "    </tr>\n",
              "    <tr>\n",
              "      <th>4</th>\n",
              "      <td>341</td>\n",
              "      <td>2038-04-02 19:00:00</td>\n",
              "      <td>False</td>\n",
              "    </tr>\n",
              "  </tbody>\n",
              "</table>\n",
              "</div>\n",
              "      <button class=\"colab-df-convert\" onclick=\"convertToInteractive('df-52acde1a-7cfd-4ed4-8fac-93a70546c981')\"\n",
              "              title=\"Convert this dataframe to an interactive table.\"\n",
              "              style=\"display:none;\">\n",
              "\n",
              "  <svg xmlns=\"http://www.w3.org/2000/svg\" height=\"24px\"viewBox=\"0 0 24 24\"\n",
              "       width=\"24px\">\n",
              "    <path d=\"M0 0h24v24H0V0z\" fill=\"none\"/>\n",
              "    <path d=\"M18.56 5.44l.94 2.06.94-2.06 2.06-.94-2.06-.94-.94-2.06-.94 2.06-2.06.94zm-11 1L8.5 8.5l.94-2.06 2.06-.94-2.06-.94L8.5 2.5l-.94 2.06-2.06.94zm10 10l.94 2.06.94-2.06 2.06-.94-2.06-.94-.94-2.06-.94 2.06-2.06.94z\"/><path d=\"M17.41 7.96l-1.37-1.37c-.4-.4-.92-.59-1.43-.59-.52 0-1.04.2-1.43.59L10.3 9.45l-7.72 7.72c-.78.78-.78 2.05 0 2.83L4 21.41c.39.39.9.59 1.41.59.51 0 1.02-.2 1.41-.59l7.78-7.78 2.81-2.81c.8-.78.8-2.07 0-2.86zM5.41 20L4 18.59l7.72-7.72 1.47 1.35L5.41 20z\"/>\n",
              "  </svg>\n",
              "      </button>\n",
              "\n",
              "\n",
              "\n",
              "    <div id=\"df-23e932af-2624-4d3c-a5b6-d27cbcc08635\">\n",
              "      <button class=\"colab-df-quickchart\" onclick=\"quickchart('df-23e932af-2624-4d3c-a5b6-d27cbcc08635')\"\n",
              "              title=\"Suggest charts.\"\n",
              "              style=\"display:none;\">\n",
              "\n",
              "<svg xmlns=\"http://www.w3.org/2000/svg\" height=\"24px\"viewBox=\"0 0 24 24\"\n",
              "     width=\"24px\">\n",
              "    <g>\n",
              "        <path d=\"M19 3H5c-1.1 0-2 .9-2 2v14c0 1.1.9 2 2 2h14c1.1 0 2-.9 2-2V5c0-1.1-.9-2-2-2zM9 17H7v-7h2v7zm4 0h-2V7h2v10zm4 0h-2v-4h2v4z\"/>\n",
              "    </g>\n",
              "</svg>\n",
              "      </button>\n",
              "    </div>\n",
              "\n",
              "<style>\n",
              "  .colab-df-quickchart {\n",
              "    background-color: #E8F0FE;\n",
              "    border: none;\n",
              "    border-radius: 50%;\n",
              "    cursor: pointer;\n",
              "    display: none;\n",
              "    fill: #1967D2;\n",
              "    height: 32px;\n",
              "    padding: 0 0 0 0;\n",
              "    width: 32px;\n",
              "  }\n",
              "\n",
              "  .colab-df-quickchart:hover {\n",
              "    background-color: #E2EBFA;\n",
              "    box-shadow: 0px 1px 2px rgba(60, 64, 67, 0.3), 0px 1px 3px 1px rgba(60, 64, 67, 0.15);\n",
              "    fill: #174EA6;\n",
              "  }\n",
              "\n",
              "  [theme=dark] .colab-df-quickchart {\n",
              "    background-color: #3B4455;\n",
              "    fill: #D2E3FC;\n",
              "  }\n",
              "\n",
              "  [theme=dark] .colab-df-quickchart:hover {\n",
              "    background-color: #434B5C;\n",
              "    box-shadow: 0px 1px 3px 1px rgba(0, 0, 0, 0.15);\n",
              "    filter: drop-shadow(0px 1px 2px rgba(0, 0, 0, 0.3));\n",
              "    fill: #FFFFFF;\n",
              "  }\n",
              "</style>\n",
              "\n",
              "    <script>\n",
              "      async function quickchart(key) {\n",
              "        const containerElement = document.querySelector('#' + key);\n",
              "        const charts = await google.colab.kernel.invokeFunction(\n",
              "            'suggestCharts', [key], {});\n",
              "      }\n",
              "    </script>\n",
              "\n",
              "      <script>\n",
              "\n",
              "function displayQuickchartButton(domScope) {\n",
              "  let quickchartButtonEl =\n",
              "    domScope.querySelector('#df-23e932af-2624-4d3c-a5b6-d27cbcc08635 button.colab-df-quickchart');\n",
              "  quickchartButtonEl.style.display =\n",
              "    google.colab.kernel.accessAllowed ? 'block' : 'none';\n",
              "}\n",
              "\n",
              "        displayQuickchartButton(document);\n",
              "      </script>\n",
              "      <style>\n",
              "    .colab-df-container {\n",
              "      display:flex;\n",
              "      flex-wrap:wrap;\n",
              "      gap: 12px;\n",
              "    }\n",
              "\n",
              "    .colab-df-convert {\n",
              "      background-color: #E8F0FE;\n",
              "      border: none;\n",
              "      border-radius: 50%;\n",
              "      cursor: pointer;\n",
              "      display: none;\n",
              "      fill: #1967D2;\n",
              "      height: 32px;\n",
              "      padding: 0 0 0 0;\n",
              "      width: 32px;\n",
              "    }\n",
              "\n",
              "    .colab-df-convert:hover {\n",
              "      background-color: #E2EBFA;\n",
              "      box-shadow: 0px 1px 2px rgba(60, 64, 67, 0.3), 0px 1px 3px 1px rgba(60, 64, 67, 0.15);\n",
              "      fill: #174EA6;\n",
              "    }\n",
              "\n",
              "    [theme=dark] .colab-df-convert {\n",
              "      background-color: #3B4455;\n",
              "      fill: #D2E3FC;\n",
              "    }\n",
              "\n",
              "    [theme=dark] .colab-df-convert:hover {\n",
              "      background-color: #434B5C;\n",
              "      box-shadow: 0px 1px 3px 1px rgba(0, 0, 0, 0.15);\n",
              "      filter: drop-shadow(0px 1px 2px rgba(0, 0, 0, 0.3));\n",
              "      fill: #FFFFFF;\n",
              "    }\n",
              "  </style>\n",
              "\n",
              "      <script>\n",
              "        const buttonEl =\n",
              "          document.querySelector('#df-52acde1a-7cfd-4ed4-8fac-93a70546c981 button.colab-df-convert');\n",
              "        buttonEl.style.display =\n",
              "          google.colab.kernel.accessAllowed ? 'block' : 'none';\n",
              "\n",
              "        async function convertToInteractive(key) {\n",
              "          const element = document.querySelector('#df-52acde1a-7cfd-4ed4-8fac-93a70546c981');\n",
              "          const dataTable =\n",
              "            await google.colab.kernel.invokeFunction('convertToInteractive',\n",
              "                                                     [key], {});\n",
              "          if (!dataTable) return;\n",
              "\n",
              "          const docLinkHtml = 'Like what you see? Visit the ' +\n",
              "            '<a target=\"_blank\" href=https://colab.research.google.com/notebooks/data_table.ipynb>data table notebook</a>'\n",
              "            + ' to learn more about interactive tables.';\n",
              "          element.innerHTML = '';\n",
              "          dataTable['output_type'] = 'display_data';\n",
              "          await google.colab.output.renderOutput(dataTable, element);\n",
              "          const docLink = document.createElement('div');\n",
              "          docLink.innerHTML = docLinkHtml;\n",
              "          element.appendChild(docLink);\n",
              "        }\n",
              "      </script>\n",
              "    </div>\n",
              "  </div>\n"
            ],
            "text/plain": [
              "   user_id                time  bought_product\n",
              "0      341 2037-12-03 19:00:00           False\n",
              "1      341 2038-01-02 19:00:00           False\n",
              "2      341 2038-02-01 19:00:00           False\n",
              "3      341 2038-03-03 19:00:00           False\n",
              "4      341 2038-04-02 19:00:00           False"
            ]
          },
          "execution_count": 116,
          "metadata": {},
          "output_type": "execute_result"
        }
      ],
      "source": [
        "lt = lm.search(\n",
        "    df.sort_values('order_time'),\n",
        "    num_examples_per_instance=-1,\n",
        "    product_name='Banana',\n",
        "    minimum_data='3d',\n",
        "    verbose=False,\n",
        ")\n",
        "\n",
        "lt.head()"
      ]
    },
    {
      "cell_type": "markdown",
      "metadata": {},
      "source": [
        "The output from the search is a label times table with three columns:\n",
        "\n",
        "* The customer ID associated to the orders. There can be many training examples generated from each customer.\n",
        "\n",
        "* The start time of the shopping period. This is also the cutoff time for building features. Only data that existed beforehand is valid to use for predictions.\n",
        "\n",
        "* Whether the product was purchased during the shopping period window. This is calculated by our labeling function."
      ]
    },
    {
      "cell_type": "code",
      "execution_count": 117,
      "metadata": {
        "id": "KqMUaOvxVJMV"
      },
      "outputs": [],
      "source": [
        "uni = lt['bought_product'].unique()"
      ]
    },
    {
      "cell_type": "code",
      "execution_count": 118,
      "metadata": {
        "colab": {
          "base_uri": "https://localhost:8080/"
        },
        "id": "3gdxnucQVR3D",
        "outputId": "0fa0e51b-18a5-4ce2-e023-1ae323c2cb5e"
      },
      "outputs": [
        {
          "data": {
            "text/plain": [
              "array([False,  True])"
            ]
          },
          "execution_count": 118,
          "metadata": {},
          "output_type": "execute_result"
        }
      ],
      "source": [
        "uni"
      ]
    },
    {
      "cell_type": "code",
      "execution_count": 119,
      "metadata": {
        "colab": {
          "base_uri": "https://localhost:8080/"
        },
        "id": "l3-bIKxLRLEg",
        "outputId": "ea8e31d7-b016-4c32-dbed-5b87c9c34fe6"
      },
      "outputs": [
        {
          "name": "stdout",
          "output_type": "stream",
          "text": [
            "Label Distribution\n",
            "------------------\n",
            "False     4739\n",
            "True       145\n",
            "Total:    4884\n",
            "\n",
            "\n",
            "Settings\n",
            "--------\n",
            "gap                                    None\n",
            "maximum_data                           None\n",
            "minimum_data                             3d\n",
            "num_examples_per_instance                -1\n",
            "target_column                bought_product\n",
            "target_dataframe_index              user_id\n",
            "target_type                        discrete\n",
            "window_size                              3d\n",
            "\n",
            "\n",
            "Transforms\n",
            "----------\n",
            "No transforms applied\n",
            "\n"
          ]
        }
      ],
      "source": [
        "lt.describe()\n"
      ]
    },
    {
      "cell_type": "code",
      "execution_count": 16,
      "metadata": {
        "id": "Dg5B5nYqRRVc"
      },
      "outputs": [],
      "source": [
        "# %pip install featuretools"
      ]
    },
    {
      "cell_type": "markdown",
      "metadata": {},
      "source": [
        "# Representing the Data\n",
        "Start by representing the data with an EntitySet. That way, you can generate features based on the relational structure of the dataset. You currently have a single table of orders where one customer can have many orders. This one-to-many relationship can be represented by normalizing a customer dataframe. The same can be done for other one-to-many relationships like aisle-to-products. Because you want to make predictions based on the customer, you should use this customer dataframe as the target for generating features."
      ]
    },
    {
      "cell_type": "code",
      "execution_count": 122,
      "metadata": {
        "colab": {
          "base_uri": "https://localhost:8080/"
        },
        "id": "ocNsC9DPROCw",
        "outputId": "b44cd55a-218b-4639-dd5f-ca56b1a92a82"
      },
      "outputs": [
        {
          "name": "stderr",
          "output_type": "stream",
          "text": [
            "index id not found in dataframe, creating new integer column\n"
          ]
        }
      ],
      "source": [
        "import featuretools as ft\n",
        "es = ft.EntitySet('instacart')\n",
        "\n",
        "es.add_dataframe(\n",
        "    dataframe=df.reset_index(),\n",
        "    dataframe_name='order_products',\n",
        "    time_index='order_time',\n",
        "    index='id',\n",
        ")\n",
        "\n",
        "es.normalize_dataframe(\n",
        "    base_dataframe_name='order_products',\n",
        "    new_dataframe_name='orders',\n",
        "    index='order_id',\n",
        "    additional_columns=['user_id'],\n",
        "    make_time_index=False,\n",
        ")\n",
        "\n",
        "es.normalize_dataframe(\n",
        "    base_dataframe_name='orders',\n",
        "    new_dataframe_name='customers',\n",
        "    index='user_id',\n",
        "    make_time_index=False,\n",
        ")\n",
        "\n",
        "es.normalize_dataframe(\n",
        "    base_dataframe_name='order_products',\n",
        "    new_dataframe_name='products',\n",
        "    index='product_id',\n",
        "    additional_columns=['aisle_id', 'department_id'],\n",
        "    make_time_index=False,\n",
        ")\n",
        "\n",
        "es.normalize_dataframe(\n",
        "    base_dataframe_name='products',\n",
        "    new_dataframe_name='aisles',\n",
        "    index='aisle_id',\n",
        "    additional_columns=['department_id'],\n",
        "    make_time_index=False,\n",
        ")\n",
        "\n",
        "es.normalize_dataframe(\n",
        "    base_dataframe_name='aisles',\n",
        "    new_dataframe_name='departments',\n",
        "    index='department_id',\n",
        "    make_time_index=False,\n",
        ")\n",
        "\n",
        "es.add_interesting_values(dataframe_name='order_products',\n",
        "                          values={'department': ['produce'],\n",
        "                                  'product_name': ['Banana']})"
      ]
    },
    {
      "cell_type": "markdown",
      "metadata": {},
      "source": [
        "# Calculating the Features\n",
        "Now you can generate features by using a method called Deep Feature Synthesis (DFS). That method automatically builds features by stacking and applying mathematical operations called primitives across relationships in an entityset. The more structured an entityset is, the better DFS can leverage the relationships to generate better features. Let’s run DFS using the following parameters:\n",
        "\n",
        "* entity_set as the entityset we structured previously.\n",
        "\n",
        "* target_dataframe_name as the customer dataframe.\n",
        "\n",
        "* cutoff_time as the label times that we generated previously. The label values are appended to the feature matrix."
      ]
    },
    {
      "cell_type": "code",
      "execution_count": 123,
      "metadata": {
        "colab": {
          "base_uri": "https://localhost:8080/",
          "height": 539
        },
        "id": "rI_39qKRRZvQ",
        "outputId": "02cd1e95-7843-4f20-849d-a499341da9a1"
      },
      "outputs": [
        {
          "data": {
            "text/html": [
              "\n",
              "\n",
              "  <div id=\"df-7728a8b9-c468-41db-9a23-3eb80a0c2a89\">\n",
              "    <div class=\"colab-df-container\">\n",
              "      <div>\n",
              "<style scoped>\n",
              "    .dataframe tbody tr th:only-of-type {\n",
              "        vertical-align: middle;\n",
              "    }\n",
              "\n",
              "    .dataframe tbody tr th {\n",
              "        vertical-align: top;\n",
              "    }\n",
              "\n",
              "    .dataframe thead th {\n",
              "        text-align: right;\n",
              "    }\n",
              "</style>\n",
              "<table border=\"1\" class=\"dataframe\">\n",
              "  <thead>\n",
              "    <tr style=\"text-align: right;\">\n",
              "      <th></th>\n",
              "      <th></th>\n",
              "      <th>COUNT(orders)</th>\n",
              "      <th>COUNT(order_products)</th>\n",
              "      <th>MAX(order_products.add_to_cart_order)</th>\n",
              "      <th>MAX(order_products.index)</th>\n",
              "      <th>MAX(order_products.reordered)</th>\n",
              "      <th>MEAN(order_products.add_to_cart_order)</th>\n",
              "      <th>MEAN(order_products.index)</th>\n",
              "      <th>MEAN(order_products.reordered)</th>\n",
              "      <th>MIN(order_products.add_to_cart_order)</th>\n",
              "      <th>MIN(order_products.index)</th>\n",
              "      <th>...</th>\n",
              "      <th>SUM(orders.NUM_UNIQUE(order_products.department))</th>\n",
              "      <th>SUM(orders.SKEW(order_products.add_to_cart_order))</th>\n",
              "      <th>SUM(orders.SKEW(order_products.index))</th>\n",
              "      <th>SUM(orders.SKEW(order_products.reordered))</th>\n",
              "      <th>SUM(orders.STD(order_products.add_to_cart_order))</th>\n",
              "      <th>SUM(orders.STD(order_products.index))</th>\n",
              "      <th>SUM(orders.STD(order_products.reordered))</th>\n",
              "      <th>COUNT(order_products WHERE product_name = Banana)</th>\n",
              "      <th>COUNT(order_products WHERE department = produce)</th>\n",
              "      <th>bought_product</th>\n",
              "    </tr>\n",
              "    <tr>\n",
              "      <th>user_id</th>\n",
              "      <th>time</th>\n",
              "      <th></th>\n",
              "      <th></th>\n",
              "      <th></th>\n",
              "      <th></th>\n",
              "      <th></th>\n",
              "      <th></th>\n",
              "      <th></th>\n",
              "      <th></th>\n",
              "      <th></th>\n",
              "      <th></th>\n",
              "      <th></th>\n",
              "      <th></th>\n",
              "      <th></th>\n",
              "      <th></th>\n",
              "      <th></th>\n",
              "      <th></th>\n",
              "      <th></th>\n",
              "      <th></th>\n",
              "      <th></th>\n",
              "      <th></th>\n",
              "      <th></th>\n",
              "    </tr>\n",
              "  </thead>\n",
              "  <tbody>\n",
              "    <tr>\n",
              "      <th rowspan=\"5\" valign=\"top\">341</th>\n",
              "      <th>2037-12-03 19:00:00</th>\n",
              "      <td>1</td>\n",
              "      <td>1</td>\n",
              "      <td>8.0</td>\n",
              "      <td>536.0</td>\n",
              "      <td>1.0</td>\n",
              "      <td>8.000000</td>\n",
              "      <td>536.0</td>\n",
              "      <td>1.00</td>\n",
              "      <td>8.0</td>\n",
              "      <td>536.0</td>\n",
              "      <td>...</td>\n",
              "      <td>1.0</td>\n",
              "      <td>0.000000</td>\n",
              "      <td>0.0</td>\n",
              "      <td>0.000000</td>\n",
              "      <td>0.000000</td>\n",
              "      <td>0.000000</td>\n",
              "      <td>0.000000</td>\n",
              "      <td>0</td>\n",
              "      <td>0</td>\n",
              "      <td>False</td>\n",
              "    </tr>\n",
              "    <tr>\n",
              "      <th>2038-01-02 19:00:00</th>\n",
              "      <td>1</td>\n",
              "      <td>2</td>\n",
              "      <td>11.0</td>\n",
              "      <td>537.0</td>\n",
              "      <td>1.0</td>\n",
              "      <td>9.500000</td>\n",
              "      <td>536.5</td>\n",
              "      <td>1.00</td>\n",
              "      <td>8.0</td>\n",
              "      <td>536.0</td>\n",
              "      <td>...</td>\n",
              "      <td>2.0</td>\n",
              "      <td>0.000000</td>\n",
              "      <td>0.0</td>\n",
              "      <td>0.000000</td>\n",
              "      <td>2.121320</td>\n",
              "      <td>0.707107</td>\n",
              "      <td>0.000000</td>\n",
              "      <td>0</td>\n",
              "      <td>0</td>\n",
              "      <td>False</td>\n",
              "    </tr>\n",
              "    <tr>\n",
              "      <th>2038-02-01 19:00:00</th>\n",
              "      <td>1</td>\n",
              "      <td>3</td>\n",
              "      <td>11.0</td>\n",
              "      <td>538.0</td>\n",
              "      <td>1.0</td>\n",
              "      <td>7.333333</td>\n",
              "      <td>537.0</td>\n",
              "      <td>1.00</td>\n",
              "      <td>3.0</td>\n",
              "      <td>536.0</td>\n",
              "      <td>...</td>\n",
              "      <td>3.0</td>\n",
              "      <td>-0.722109</td>\n",
              "      <td>0.0</td>\n",
              "      <td>0.000000</td>\n",
              "      <td>4.041452</td>\n",
              "      <td>1.000000</td>\n",
              "      <td>0.000000</td>\n",
              "      <td>0</td>\n",
              "      <td>0</td>\n",
              "      <td>False</td>\n",
              "    </tr>\n",
              "    <tr>\n",
              "      <th>2038-03-03 19:00:00</th>\n",
              "      <td>1</td>\n",
              "      <td>4</td>\n",
              "      <td>18.0</td>\n",
              "      <td>539.0</td>\n",
              "      <td>1.0</td>\n",
              "      <td>10.000000</td>\n",
              "      <td>537.5</td>\n",
              "      <td>0.75</td>\n",
              "      <td>3.0</td>\n",
              "      <td>536.0</td>\n",
              "      <td>...</td>\n",
              "      <td>4.0</td>\n",
              "      <td>0.437807</td>\n",
              "      <td>0.0</td>\n",
              "      <td>-2.000000</td>\n",
              "      <td>6.271629</td>\n",
              "      <td>1.290994</td>\n",
              "      <td>0.500000</td>\n",
              "      <td>0</td>\n",
              "      <td>0</td>\n",
              "      <td>False</td>\n",
              "    </tr>\n",
              "    <tr>\n",
              "      <th>2038-04-02 19:00:00</th>\n",
              "      <td>1</td>\n",
              "      <td>5</td>\n",
              "      <td>18.0</td>\n",
              "      <td>540.0</td>\n",
              "      <td>1.0</td>\n",
              "      <td>11.400000</td>\n",
              "      <td>538.0</td>\n",
              "      <td>0.80</td>\n",
              "      <td>3.0</td>\n",
              "      <td>536.0</td>\n",
              "      <td>...</td>\n",
              "      <td>4.0</td>\n",
              "      <td>-0.285748</td>\n",
              "      <td>0.0</td>\n",
              "      <td>-2.236068</td>\n",
              "      <td>6.268971</td>\n",
              "      <td>1.581139</td>\n",
              "      <td>0.447214</td>\n",
              "      <td>0</td>\n",
              "      <td>0</td>\n",
              "      <td>False</td>\n",
              "    </tr>\n",
              "  </tbody>\n",
              "</table>\n",
              "<p>5 rows × 141 columns</p>\n",
              "</div>\n",
              "      <button class=\"colab-df-convert\" onclick=\"convertToInteractive('df-7728a8b9-c468-41db-9a23-3eb80a0c2a89')\"\n",
              "              title=\"Convert this dataframe to an interactive table.\"\n",
              "              style=\"display:none;\">\n",
              "\n",
              "  <svg xmlns=\"http://www.w3.org/2000/svg\" height=\"24px\"viewBox=\"0 0 24 24\"\n",
              "       width=\"24px\">\n",
              "    <path d=\"M0 0h24v24H0V0z\" fill=\"none\"/>\n",
              "    <path d=\"M18.56 5.44l.94 2.06.94-2.06 2.06-.94-2.06-.94-.94-2.06-.94 2.06-2.06.94zm-11 1L8.5 8.5l.94-2.06 2.06-.94-2.06-.94L8.5 2.5l-.94 2.06-2.06.94zm10 10l.94 2.06.94-2.06 2.06-.94-2.06-.94-.94-2.06-.94 2.06-2.06.94z\"/><path d=\"M17.41 7.96l-1.37-1.37c-.4-.4-.92-.59-1.43-.59-.52 0-1.04.2-1.43.59L10.3 9.45l-7.72 7.72c-.78.78-.78 2.05 0 2.83L4 21.41c.39.39.9.59 1.41.59.51 0 1.02-.2 1.41-.59l7.78-7.78 2.81-2.81c.8-.78.8-2.07 0-2.86zM5.41 20L4 18.59l7.72-7.72 1.47 1.35L5.41 20z\"/>\n",
              "  </svg>\n",
              "      </button>\n",
              "\n",
              "\n",
              "\n",
              "    <div id=\"df-99702d17-ae46-44cf-86fa-408040671335\">\n",
              "      <button class=\"colab-df-quickchart\" onclick=\"quickchart('df-99702d17-ae46-44cf-86fa-408040671335')\"\n",
              "              title=\"Suggest charts.\"\n",
              "              style=\"display:none;\">\n",
              "\n",
              "<svg xmlns=\"http://www.w3.org/2000/svg\" height=\"24px\"viewBox=\"0 0 24 24\"\n",
              "     width=\"24px\">\n",
              "    <g>\n",
              "        <path d=\"M19 3H5c-1.1 0-2 .9-2 2v14c0 1.1.9 2 2 2h14c1.1 0 2-.9 2-2V5c0-1.1-.9-2-2-2zM9 17H7v-7h2v7zm4 0h-2V7h2v10zm4 0h-2v-4h2v4z\"/>\n",
              "    </g>\n",
              "</svg>\n",
              "      </button>\n",
              "    </div>\n",
              "\n",
              "<style>\n",
              "  .colab-df-quickchart {\n",
              "    background-color: #E8F0FE;\n",
              "    border: none;\n",
              "    border-radius: 50%;\n",
              "    cursor: pointer;\n",
              "    display: none;\n",
              "    fill: #1967D2;\n",
              "    height: 32px;\n",
              "    padding: 0 0 0 0;\n",
              "    width: 32px;\n",
              "  }\n",
              "\n",
              "  .colab-df-quickchart:hover {\n",
              "    background-color: #E2EBFA;\n",
              "    box-shadow: 0px 1px 2px rgba(60, 64, 67, 0.3), 0px 1px 3px 1px rgba(60, 64, 67, 0.15);\n",
              "    fill: #174EA6;\n",
              "  }\n",
              "\n",
              "  [theme=dark] .colab-df-quickchart {\n",
              "    background-color: #3B4455;\n",
              "    fill: #D2E3FC;\n",
              "  }\n",
              "\n",
              "  [theme=dark] .colab-df-quickchart:hover {\n",
              "    background-color: #434B5C;\n",
              "    box-shadow: 0px 1px 3px 1px rgba(0, 0, 0, 0.15);\n",
              "    filter: drop-shadow(0px 1px 2px rgba(0, 0, 0, 0.3));\n",
              "    fill: #FFFFFF;\n",
              "  }\n",
              "</style>\n",
              "\n",
              "    <script>\n",
              "      async function quickchart(key) {\n",
              "        const containerElement = document.querySelector('#' + key);\n",
              "        const charts = await google.colab.kernel.invokeFunction(\n",
              "            'suggestCharts', [key], {});\n",
              "      }\n",
              "    </script>\n",
              "\n",
              "      <script>\n",
              "\n",
              "function displayQuickchartButton(domScope) {\n",
              "  let quickchartButtonEl =\n",
              "    domScope.querySelector('#df-99702d17-ae46-44cf-86fa-408040671335 button.colab-df-quickchart');\n",
              "  quickchartButtonEl.style.display =\n",
              "    google.colab.kernel.accessAllowed ? 'block' : 'none';\n",
              "}\n",
              "\n",
              "        displayQuickchartButton(document);\n",
              "      </script>\n",
              "      <style>\n",
              "    .colab-df-container {\n",
              "      display:flex;\n",
              "      flex-wrap:wrap;\n",
              "      gap: 12px;\n",
              "    }\n",
              "\n",
              "    .colab-df-convert {\n",
              "      background-color: #E8F0FE;\n",
              "      border: none;\n",
              "      border-radius: 50%;\n",
              "      cursor: pointer;\n",
              "      display: none;\n",
              "      fill: #1967D2;\n",
              "      height: 32px;\n",
              "      padding: 0 0 0 0;\n",
              "      width: 32px;\n",
              "    }\n",
              "\n",
              "    .colab-df-convert:hover {\n",
              "      background-color: #E2EBFA;\n",
              "      box-shadow: 0px 1px 2px rgba(60, 64, 67, 0.3), 0px 1px 3px 1px rgba(60, 64, 67, 0.15);\n",
              "      fill: #174EA6;\n",
              "    }\n",
              "\n",
              "    [theme=dark] .colab-df-convert {\n",
              "      background-color: #3B4455;\n",
              "      fill: #D2E3FC;\n",
              "    }\n",
              "\n",
              "    [theme=dark] .colab-df-convert:hover {\n",
              "      background-color: #434B5C;\n",
              "      box-shadow: 0px 1px 3px 1px rgba(0, 0, 0, 0.15);\n",
              "      filter: drop-shadow(0px 1px 2px rgba(0, 0, 0, 0.3));\n",
              "      fill: #FFFFFF;\n",
              "    }\n",
              "  </style>\n",
              "\n",
              "      <script>\n",
              "        const buttonEl =\n",
              "          document.querySelector('#df-7728a8b9-c468-41db-9a23-3eb80a0c2a89 button.colab-df-convert');\n",
              "        buttonEl.style.display =\n",
              "          google.colab.kernel.accessAllowed ? 'block' : 'none';\n",
              "\n",
              "        async function convertToInteractive(key) {\n",
              "          const element = document.querySelector('#df-7728a8b9-c468-41db-9a23-3eb80a0c2a89');\n",
              "          const dataTable =\n",
              "            await google.colab.kernel.invokeFunction('convertToInteractive',\n",
              "                                                     [key], {});\n",
              "          if (!dataTable) return;\n",
              "\n",
              "          const docLinkHtml = 'Like what you see? Visit the ' +\n",
              "            '<a target=\"_blank\" href=https://colab.research.google.com/notebooks/data_table.ipynb>data table notebook</a>'\n",
              "            + ' to learn more about interactive tables.';\n",
              "          element.innerHTML = '';\n",
              "          dataTable['output_type'] = 'display_data';\n",
              "          await google.colab.output.renderOutput(dataTable, element);\n",
              "          const docLink = document.createElement('div');\n",
              "          docLink.innerHTML = docLinkHtml;\n",
              "          element.appendChild(docLink);\n",
              "        }\n",
              "      </script>\n",
              "    </div>\n",
              "  </div>\n"
            ],
            "text/plain": [
              "                             COUNT(orders)  COUNT(order_products)  \\\n",
              "user_id time                                                        \n",
              "341     2037-12-03 19:00:00              1                      1   \n",
              "        2038-01-02 19:00:00              1                      2   \n",
              "        2038-02-01 19:00:00              1                      3   \n",
              "        2038-03-03 19:00:00              1                      4   \n",
              "        2038-04-02 19:00:00              1                      5   \n",
              "\n",
              "                             MAX(order_products.add_to_cart_order)  \\\n",
              "user_id time                                                         \n",
              "341     2037-12-03 19:00:00                                    8.0   \n",
              "        2038-01-02 19:00:00                                   11.0   \n",
              "        2038-02-01 19:00:00                                   11.0   \n",
              "        2038-03-03 19:00:00                                   18.0   \n",
              "        2038-04-02 19:00:00                                   18.0   \n",
              "\n",
              "                             MAX(order_products.index)  \\\n",
              "user_id time                                             \n",
              "341     2037-12-03 19:00:00                      536.0   \n",
              "        2038-01-02 19:00:00                      537.0   \n",
              "        2038-02-01 19:00:00                      538.0   \n",
              "        2038-03-03 19:00:00                      539.0   \n",
              "        2038-04-02 19:00:00                      540.0   \n",
              "\n",
              "                             MAX(order_products.reordered)  \\\n",
              "user_id time                                                 \n",
              "341     2037-12-03 19:00:00                            1.0   \n",
              "        2038-01-02 19:00:00                            1.0   \n",
              "        2038-02-01 19:00:00                            1.0   \n",
              "        2038-03-03 19:00:00                            1.0   \n",
              "        2038-04-02 19:00:00                            1.0   \n",
              "\n",
              "                             MEAN(order_products.add_to_cart_order)  \\\n",
              "user_id time                                                          \n",
              "341     2037-12-03 19:00:00                                8.000000   \n",
              "        2038-01-02 19:00:00                                9.500000   \n",
              "        2038-02-01 19:00:00                                7.333333   \n",
              "        2038-03-03 19:00:00                               10.000000   \n",
              "        2038-04-02 19:00:00                               11.400000   \n",
              "\n",
              "                             MEAN(order_products.index)  \\\n",
              "user_id time                                              \n",
              "341     2037-12-03 19:00:00                       536.0   \n",
              "        2038-01-02 19:00:00                       536.5   \n",
              "        2038-02-01 19:00:00                       537.0   \n",
              "        2038-03-03 19:00:00                       537.5   \n",
              "        2038-04-02 19:00:00                       538.0   \n",
              "\n",
              "                             MEAN(order_products.reordered)  \\\n",
              "user_id time                                                  \n",
              "341     2037-12-03 19:00:00                            1.00   \n",
              "        2038-01-02 19:00:00                            1.00   \n",
              "        2038-02-01 19:00:00                            1.00   \n",
              "        2038-03-03 19:00:00                            0.75   \n",
              "        2038-04-02 19:00:00                            0.80   \n",
              "\n",
              "                             MIN(order_products.add_to_cart_order)  \\\n",
              "user_id time                                                         \n",
              "341     2037-12-03 19:00:00                                    8.0   \n",
              "        2038-01-02 19:00:00                                    8.0   \n",
              "        2038-02-01 19:00:00                                    3.0   \n",
              "        2038-03-03 19:00:00                                    3.0   \n",
              "        2038-04-02 19:00:00                                    3.0   \n",
              "\n",
              "                             MIN(order_products.index)  ...  \\\n",
              "user_id time                                            ...   \n",
              "341     2037-12-03 19:00:00                      536.0  ...   \n",
              "        2038-01-02 19:00:00                      536.0  ...   \n",
              "        2038-02-01 19:00:00                      536.0  ...   \n",
              "        2038-03-03 19:00:00                      536.0  ...   \n",
              "        2038-04-02 19:00:00                      536.0  ...   \n",
              "\n",
              "                             SUM(orders.NUM_UNIQUE(order_products.department))  \\\n",
              "user_id time                                                                     \n",
              "341     2037-12-03 19:00:00                                                1.0   \n",
              "        2038-01-02 19:00:00                                                2.0   \n",
              "        2038-02-01 19:00:00                                                3.0   \n",
              "        2038-03-03 19:00:00                                                4.0   \n",
              "        2038-04-02 19:00:00                                                4.0   \n",
              "\n",
              "                            SUM(orders.SKEW(order_products.add_to_cart_order))  \\\n",
              "user_id time                                                                     \n",
              "341     2037-12-03 19:00:00                                           0.000000   \n",
              "        2038-01-02 19:00:00                                           0.000000   \n",
              "        2038-02-01 19:00:00                                          -0.722109   \n",
              "        2038-03-03 19:00:00                                           0.437807   \n",
              "        2038-04-02 19:00:00                                          -0.285748   \n",
              "\n",
              "                            SUM(orders.SKEW(order_products.index))  \\\n",
              "user_id time                                                         \n",
              "341     2037-12-03 19:00:00                                    0.0   \n",
              "        2038-01-02 19:00:00                                    0.0   \n",
              "        2038-02-01 19:00:00                                    0.0   \n",
              "        2038-03-03 19:00:00                                    0.0   \n",
              "        2038-04-02 19:00:00                                    0.0   \n",
              "\n",
              "                             SUM(orders.SKEW(order_products.reordered))  \\\n",
              "user_id time                                                              \n",
              "341     2037-12-03 19:00:00                                    0.000000   \n",
              "        2038-01-02 19:00:00                                    0.000000   \n",
              "        2038-02-01 19:00:00                                    0.000000   \n",
              "        2038-03-03 19:00:00                                   -2.000000   \n",
              "        2038-04-02 19:00:00                                   -2.236068   \n",
              "\n",
              "                             SUM(orders.STD(order_products.add_to_cart_order))  \\\n",
              "user_id time                                                                     \n",
              "341     2037-12-03 19:00:00                                           0.000000   \n",
              "        2038-01-02 19:00:00                                           2.121320   \n",
              "        2038-02-01 19:00:00                                           4.041452   \n",
              "        2038-03-03 19:00:00                                           6.271629   \n",
              "        2038-04-02 19:00:00                                           6.268971   \n",
              "\n",
              "                             SUM(orders.STD(order_products.index))  \\\n",
              "user_id time                                                         \n",
              "341     2037-12-03 19:00:00                               0.000000   \n",
              "        2038-01-02 19:00:00                               0.707107   \n",
              "        2038-02-01 19:00:00                               1.000000   \n",
              "        2038-03-03 19:00:00                               1.290994   \n",
              "        2038-04-02 19:00:00                               1.581139   \n",
              "\n",
              "                             SUM(orders.STD(order_products.reordered))  \\\n",
              "user_id time                                                             \n",
              "341     2037-12-03 19:00:00                                   0.000000   \n",
              "        2038-01-02 19:00:00                                   0.000000   \n",
              "        2038-02-01 19:00:00                                   0.000000   \n",
              "        2038-03-03 19:00:00                                   0.500000   \n",
              "        2038-04-02 19:00:00                                   0.447214   \n",
              "\n",
              "                             COUNT(order_products WHERE product_name = Banana)  \\\n",
              "user_id time                                                                     \n",
              "341     2037-12-03 19:00:00                                                  0   \n",
              "        2038-01-02 19:00:00                                                  0   \n",
              "        2038-02-01 19:00:00                                                  0   \n",
              "        2038-03-03 19:00:00                                                  0   \n",
              "        2038-04-02 19:00:00                                                  0   \n",
              "\n",
              "                             COUNT(order_products WHERE department = produce)  \\\n",
              "user_id time                                                                    \n",
              "341     2037-12-03 19:00:00                                                 0   \n",
              "        2038-01-02 19:00:00                                                 0   \n",
              "        2038-02-01 19:00:00                                                 0   \n",
              "        2038-03-03 19:00:00                                                 0   \n",
              "        2038-04-02 19:00:00                                                 0   \n",
              "\n",
              "                             bought_product  \n",
              "user_id time                                 \n",
              "341     2037-12-03 19:00:00           False  \n",
              "        2038-01-02 19:00:00           False  \n",
              "        2038-02-01 19:00:00           False  \n",
              "        2038-03-03 19:00:00           False  \n",
              "        2038-04-02 19:00:00           False  \n",
              "\n",
              "[5 rows x 141 columns]"
            ]
          },
          "execution_count": 123,
          "metadata": {},
          "output_type": "execute_result"
        }
      ],
      "source": [
        "fm, fd = ft.dfs(\n",
        "    entityset=es,\n",
        "    target_dataframe_name='customers',\n",
        "    cutoff_time=lt,\n",
        "    cutoff_time_in_index=True,\n",
        "    include_cutoff_time=False,\n",
        "    verbose=False,\n",
        ")\n",
        "\n",
        "fm.head()"
      ]
    },
    {
      "cell_type": "markdown",
      "metadata": {},
      "source": [
        "There are two outputs from DFS: a feature matrix and feature definitions. The feature matrix is a table that contains the feature values with the corresponding labels based on the cutoff times. Feature definitions are features in a list that can be stored and reused later to calculate the same set of features on future data."
      ]
    },
    {
      "cell_type": "code",
      "execution_count": 19,
      "metadata": {
        "id": "5WV2Fu4BRj9m"
      },
      "outputs": [],
      "source": [
        "# %pip install evalml"
      ]
    },
    {
      "cell_type": "code",
      "execution_count": 66,
      "metadata": {
        "colab": {
          "base_uri": "https://localhost:8080/"
        },
        "id": "no2GI5QjYLxb",
        "outputId": "d9c53176-d8b3-47b4-e684-87c19c63461c"
      },
      "outputs": [
        {
          "name": "stdout",
          "output_type": "stream",
          "text": [
            "False    178\n",
            "True       1\n",
            "Name: bought_product, dtype: int64\n"
          ]
        }
      ],
      "source": []
    },
    {
      "cell_type": "code",
      "execution_count": 67,
      "metadata": {
        "colab": {
          "base_uri": "https://localhost:8080/"
        },
        "id": "asds3AkcYTcP",
        "outputId": "78a6e1d8-3275-4015-b2fd-ac1f6583a353"
      },
      "outputs": [
        {
          "name": "stdout",
          "output_type": "stream",
          "text": [
            "Requirement already satisfied: imbalanced-learn in /usr/local/lib/python3.10/dist-packages (0.10.1)\n",
            "Requirement already satisfied: numpy>=1.17.3 in /usr/local/lib/python3.10/dist-packages (from imbalanced-learn) (1.22.4)\n",
            "Requirement already satisfied: scipy>=1.3.2 in /usr/local/lib/python3.10/dist-packages (from imbalanced-learn) (1.10.1)\n",
            "Requirement already satisfied: scikit-learn>=1.0.2 in /usr/local/lib/python3.10/dist-packages (from imbalanced-learn) (1.2.2)\n",
            "Requirement already satisfied: joblib>=1.1.1 in /usr/local/lib/python3.10/dist-packages (from imbalanced-learn) (1.3.1)\n",
            "Requirement already satisfied: threadpoolctl>=2.0.0 in /usr/local/lib/python3.10/dist-packages (from imbalanced-learn) (3.2.0)\n"
          ]
        }
      ],
      "source": [
        "# %pip install imbalanced-learn"
      ]
    },
    {
      "cell_type": "markdown",
      "metadata": {},
      "source": [
        "# Machine Learning\n",
        "In the previous steps, you generated the labels and features. The final step is to build the machine learning pipeline.\n",
        "\n",
        "## Splitting the Data\n",
        "Start by extracting the labels from the feature matrix and splitting the data into a training set and a holdout set."
      ]
    },
    {
      "cell_type": "code",
      "execution_count": 124,
      "metadata": {
        "id": "KUIwaRoQReEW"
      },
      "outputs": [],
      "source": [
        "fm.reset_index(drop=True, inplace=True)\n",
        "y = fm.ww.pop('bought_product')\n",
        "\n",
        "splits = evalml.preprocessing.split_data(\n",
        "    X=fm,\n",
        "    y=y,\n",
        "    test_size=0.2,\n",
        "    random_seed=0,\n",
        "    problem_type='binary',\n",
        ")\n",
        "\n",
        "X_train, X_holdout, y_train, y_holdout = splits"
      ]
    },
    {
      "cell_type": "markdown",
      "metadata": {},
      "source": [
        "# Finding the Best Model\n",
        "Run a search on the training set to find the best machine learning model. During the search process, predictions from several different pipelines are evaluated."
      ]
    },
    {
      "cell_type": "code",
      "execution_count": 125,
      "metadata": {
        "colab": {
          "base_uri": "https://localhost:8080/"
        },
        "id": "HDjjK2XYRiOe",
        "outputId": "1e1a12c4-d5d4-4625-e627-d0b3061b0e74"
      },
      "outputs": [
        {
          "data": {
            "text/plain": [
              "{1: {'Random Forest Classifier w/ Label Encoder + Drop Null Columns Transformer + Imputer + One Hot Encoder + Oversampler': 15.315903663635254,\n",
              "  'Total time of batch': 15.481111764907837},\n",
              " 2: {'Random Forest Classifier w/ Label Encoder + Drop Null Columns Transformer + Imputer + One Hot Encoder + Oversampler + RF Classifier Select From Model': 17.621840000152588,\n",
              "  'Total time of batch': 17.78543519973755}}"
            ]
          },
          "execution_count": 125,
          "metadata": {},
          "output_type": "execute_result"
        }
      ],
      "source": [
        "automl = evalml.AutoMLSearch(\n",
        "    X_train=fm,\n",
        "    y_train=y,\n",
        "    problem_type='binary',\n",
        "    objective='f1',\n",
        "    random_seed=0,\n",
        "    allowed_model_families=['catboost', 'random_forest'],\n",
        "    max_iterations=3,\n",
        ")\n",
        "\n",
        "automl.search()"
      ]
    },
    {
      "cell_type": "code",
      "execution_count": 126,
      "metadata": {
        "colab": {
          "base_uri": "https://localhost:8080/"
        },
        "id": "H12eDrlGTVQn",
        "outputId": "4b413a32-6e6b-4092-dc5a-0db2ae57c630"
      },
      "outputs": [
        {
          "name": "stdout",
          "output_type": "stream",
          "text": [
            "\n",
            "*********************************************************************************************************************************************************\n"
          ]
        },
        {
          "name": "stderr",
          "output_type": "stream",
          "text": [
            "INFO:evalml.pipelines.pipeline_base.describe:\n",
            "*********************************************************************************************************************************************************\n"
          ]
        },
        {
          "name": "stdout",
          "output_type": "stream",
          "text": [
            "* Random Forest Classifier w/ Label Encoder + Drop Null Columns Transformer + Imputer + One Hot Encoder + Oversampler + RF Classifier Select From Model *\n"
          ]
        },
        {
          "name": "stderr",
          "output_type": "stream",
          "text": [
            "INFO:evalml.pipelines.pipeline_base.describe:* Random Forest Classifier w/ Label Encoder + Drop Null Columns Transformer + Imputer + One Hot Encoder + Oversampler + RF Classifier Select From Model *\n"
          ]
        },
        {
          "name": "stdout",
          "output_type": "stream",
          "text": [
            "*********************************************************************************************************************************************************\n"
          ]
        },
        {
          "name": "stderr",
          "output_type": "stream",
          "text": [
            "INFO:evalml.pipelines.pipeline_base.describe:*********************************************************************************************************************************************************\n"
          ]
        },
        {
          "name": "stdout",
          "output_type": "stream",
          "text": [
            "\n"
          ]
        },
        {
          "name": "stderr",
          "output_type": "stream",
          "text": [
            "INFO:evalml.pipelines.pipeline_base.describe:\n"
          ]
        },
        {
          "name": "stdout",
          "output_type": "stream",
          "text": [
            "Problem Type: binary\n"
          ]
        },
        {
          "name": "stderr",
          "output_type": "stream",
          "text": [
            "INFO:evalml.pipelines.pipeline_base.describe:Problem Type: binary\n"
          ]
        },
        {
          "name": "stdout",
          "output_type": "stream",
          "text": [
            "Model Family: Random Forest\n"
          ]
        },
        {
          "name": "stderr",
          "output_type": "stream",
          "text": [
            "INFO:evalml.pipelines.pipeline_base.describe:Model Family: Random Forest\n"
          ]
        },
        {
          "name": "stdout",
          "output_type": "stream",
          "text": [
            "Number of features: 70\n"
          ]
        },
        {
          "name": "stderr",
          "output_type": "stream",
          "text": [
            "INFO:evalml.pipelines.pipeline_base.describe:Number of features: 70\n"
          ]
        },
        {
          "name": "stdout",
          "output_type": "stream",
          "text": [
            "\n"
          ]
        },
        {
          "name": "stderr",
          "output_type": "stream",
          "text": [
            "INFO:evalml.pipelines.pipeline_base.describe:\n"
          ]
        },
        {
          "name": "stdout",
          "output_type": "stream",
          "text": [
            "Pipeline Steps\n"
          ]
        },
        {
          "name": "stderr",
          "output_type": "stream",
          "text": [
            "INFO:evalml.pipelines.pipeline_base.describe:Pipeline Steps\n"
          ]
        },
        {
          "name": "stdout",
          "output_type": "stream",
          "text": [
            "==============\n"
          ]
        },
        {
          "name": "stderr",
          "output_type": "stream",
          "text": [
            "INFO:evalml.pipelines.pipeline_base.describe:==============\n"
          ]
        },
        {
          "name": "stdout",
          "output_type": "stream",
          "text": [
            "1. Label Encoder\n"
          ]
        },
        {
          "name": "stderr",
          "output_type": "stream",
          "text": [
            "INFO:evalml.pipelines.component_graph.describe:1. Label Encoder\n"
          ]
        },
        {
          "name": "stdout",
          "output_type": "stream",
          "text": [
            "\t * positive_label : None\n"
          ]
        },
        {
          "name": "stderr",
          "output_type": "stream",
          "text": [
            "INFO:evalml.pipelines.components.component_base.describe:\t * positive_label : None\n"
          ]
        },
        {
          "name": "stdout",
          "output_type": "stream",
          "text": [
            "2. Drop Null Columns Transformer\n"
          ]
        },
        {
          "name": "stderr",
          "output_type": "stream",
          "text": [
            "INFO:evalml.pipelines.component_graph.describe:2. Drop Null Columns Transformer\n"
          ]
        },
        {
          "name": "stdout",
          "output_type": "stream",
          "text": [
            "\t * pct_null_threshold : 1.0\n"
          ]
        },
        {
          "name": "stderr",
          "output_type": "stream",
          "text": [
            "INFO:evalml.pipelines.components.component_base.describe:\t * pct_null_threshold : 1.0\n"
          ]
        },
        {
          "name": "stdout",
          "output_type": "stream",
          "text": [
            "3. Imputer\n"
          ]
        },
        {
          "name": "stderr",
          "output_type": "stream",
          "text": [
            "INFO:evalml.pipelines.component_graph.describe:3. Imputer\n"
          ]
        },
        {
          "name": "stdout",
          "output_type": "stream",
          "text": [
            "\t * categorical_impute_strategy : most_frequent\n"
          ]
        },
        {
          "name": "stderr",
          "output_type": "stream",
          "text": [
            "INFO:evalml.pipelines.components.component_base.describe:\t * categorical_impute_strategy : most_frequent\n"
          ]
        },
        {
          "name": "stdout",
          "output_type": "stream",
          "text": [
            "\t * numeric_impute_strategy : mean\n"
          ]
        },
        {
          "name": "stderr",
          "output_type": "stream",
          "text": [
            "INFO:evalml.pipelines.components.component_base.describe:\t * numeric_impute_strategy : mean\n"
          ]
        },
        {
          "name": "stdout",
          "output_type": "stream",
          "text": [
            "\t * boolean_impute_strategy : most_frequent\n"
          ]
        },
        {
          "name": "stderr",
          "output_type": "stream",
          "text": [
            "INFO:evalml.pipelines.components.component_base.describe:\t * boolean_impute_strategy : most_frequent\n"
          ]
        },
        {
          "name": "stdout",
          "output_type": "stream",
          "text": [
            "\t * categorical_fill_value : None\n"
          ]
        },
        {
          "name": "stderr",
          "output_type": "stream",
          "text": [
            "INFO:evalml.pipelines.components.component_base.describe:\t * categorical_fill_value : None\n"
          ]
        },
        {
          "name": "stdout",
          "output_type": "stream",
          "text": [
            "\t * numeric_fill_value : None\n"
          ]
        },
        {
          "name": "stderr",
          "output_type": "stream",
          "text": [
            "INFO:evalml.pipelines.components.component_base.describe:\t * numeric_fill_value : None\n"
          ]
        },
        {
          "name": "stdout",
          "output_type": "stream",
          "text": [
            "\t * boolean_fill_value : None\n"
          ]
        },
        {
          "name": "stderr",
          "output_type": "stream",
          "text": [
            "INFO:evalml.pipelines.components.component_base.describe:\t * boolean_fill_value : None\n"
          ]
        },
        {
          "name": "stdout",
          "output_type": "stream",
          "text": [
            "4. One Hot Encoder\n"
          ]
        },
        {
          "name": "stderr",
          "output_type": "stream",
          "text": [
            "INFO:evalml.pipelines.component_graph.describe:4. One Hot Encoder\n"
          ]
        },
        {
          "name": "stdout",
          "output_type": "stream",
          "text": [
            "\t * top_n : 10\n"
          ]
        },
        {
          "name": "stderr",
          "output_type": "stream",
          "text": [
            "INFO:evalml.pipelines.components.component_base.describe:\t * top_n : 10\n"
          ]
        },
        {
          "name": "stdout",
          "output_type": "stream",
          "text": [
            "\t * features_to_encode : None\n"
          ]
        },
        {
          "name": "stderr",
          "output_type": "stream",
          "text": [
            "INFO:evalml.pipelines.components.component_base.describe:\t * features_to_encode : None\n"
          ]
        },
        {
          "name": "stdout",
          "output_type": "stream",
          "text": [
            "\t * categories : None\n"
          ]
        },
        {
          "name": "stderr",
          "output_type": "stream",
          "text": [
            "INFO:evalml.pipelines.components.component_base.describe:\t * categories : None\n"
          ]
        },
        {
          "name": "stdout",
          "output_type": "stream",
          "text": [
            "\t * drop : if_binary\n"
          ]
        },
        {
          "name": "stderr",
          "output_type": "stream",
          "text": [
            "INFO:evalml.pipelines.components.component_base.describe:\t * drop : if_binary\n"
          ]
        },
        {
          "name": "stdout",
          "output_type": "stream",
          "text": [
            "\t * handle_unknown : ignore\n"
          ]
        },
        {
          "name": "stderr",
          "output_type": "stream",
          "text": [
            "INFO:evalml.pipelines.components.component_base.describe:\t * handle_unknown : ignore\n"
          ]
        },
        {
          "name": "stdout",
          "output_type": "stream",
          "text": [
            "\t * handle_missing : error\n"
          ]
        },
        {
          "name": "stderr",
          "output_type": "stream",
          "text": [
            "INFO:evalml.pipelines.components.component_base.describe:\t * handle_missing : error\n"
          ]
        },
        {
          "name": "stdout",
          "output_type": "stream",
          "text": [
            "5. Oversampler\n"
          ]
        },
        {
          "name": "stderr",
          "output_type": "stream",
          "text": [
            "INFO:evalml.pipelines.component_graph.describe:5. Oversampler\n"
          ]
        },
        {
          "name": "stdout",
          "output_type": "stream",
          "text": [
            "\t * sampling_ratio : 0.25\n"
          ]
        },
        {
          "name": "stderr",
          "output_type": "stream",
          "text": [
            "INFO:evalml.pipelines.components.component_base.describe:\t * sampling_ratio : 0.25\n"
          ]
        },
        {
          "name": "stdout",
          "output_type": "stream",
          "text": [
            "\t * k_neighbors_default : 5\n"
          ]
        },
        {
          "name": "stderr",
          "output_type": "stream",
          "text": [
            "INFO:evalml.pipelines.components.component_base.describe:\t * k_neighbors_default : 5\n"
          ]
        },
        {
          "name": "stdout",
          "output_type": "stream",
          "text": [
            "\t * n_jobs : -1\n"
          ]
        },
        {
          "name": "stderr",
          "output_type": "stream",
          "text": [
            "INFO:evalml.pipelines.components.component_base.describe:\t * n_jobs : -1\n"
          ]
        },
        {
          "name": "stdout",
          "output_type": "stream",
          "text": [
            "\t * sampling_ratio_dict : None\n"
          ]
        },
        {
          "name": "stderr",
          "output_type": "stream",
          "text": [
            "INFO:evalml.pipelines.components.component_base.describe:\t * sampling_ratio_dict : None\n"
          ]
        },
        {
          "name": "stdout",
          "output_type": "stream",
          "text": [
            "\t * categorical_features : [100, 101, 102, 103, 104, 105, 106, 107, 108, 109, 110, 111, 112, 113, 114, 115, 116, 117, 118, 119, 120, 121, 122, 123, 124, 125, 126, 127, 128, 129, 130, 131, 132, 133, 134, 135, 136, 137, 138, 139]\n"
          ]
        },
        {
          "name": "stderr",
          "output_type": "stream",
          "text": [
            "INFO:evalml.pipelines.components.component_base.describe:\t * categorical_features : [100, 101, 102, 103, 104, 105, 106, 107, 108, 109, 110, 111, 112, 113, 114, 115, 116, 117, 118, 119, 120, 121, 122, 123, 124, 125, 126, 127, 128, 129, 130, 131, 132, 133, 134, 135, 136, 137, 138, 139]\n"
          ]
        },
        {
          "name": "stdout",
          "output_type": "stream",
          "text": [
            "\t * k_neighbors : 5\n"
          ]
        },
        {
          "name": "stderr",
          "output_type": "stream",
          "text": [
            "INFO:evalml.pipelines.components.component_base.describe:\t * k_neighbors : 5\n"
          ]
        },
        {
          "name": "stdout",
          "output_type": "stream",
          "text": [
            "6. RF Classifier Select From Model\n"
          ]
        },
        {
          "name": "stderr",
          "output_type": "stream",
          "text": [
            "INFO:evalml.pipelines.component_graph.describe:6. RF Classifier Select From Model\n"
          ]
        },
        {
          "name": "stdout",
          "output_type": "stream",
          "text": [
            "\t * number_features : None\n"
          ]
        },
        {
          "name": "stderr",
          "output_type": "stream",
          "text": [
            "INFO:evalml.pipelines.components.component_base.describe:\t * number_features : None\n"
          ]
        },
        {
          "name": "stdout",
          "output_type": "stream",
          "text": [
            "\t * n_estimators : 10\n"
          ]
        },
        {
          "name": "stderr",
          "output_type": "stream",
          "text": [
            "INFO:evalml.pipelines.components.component_base.describe:\t * n_estimators : 10\n"
          ]
        },
        {
          "name": "stdout",
          "output_type": "stream",
          "text": [
            "\t * max_depth : None\n"
          ]
        },
        {
          "name": "stderr",
          "output_type": "stream",
          "text": [
            "INFO:evalml.pipelines.components.component_base.describe:\t * max_depth : None\n"
          ]
        },
        {
          "name": "stdout",
          "output_type": "stream",
          "text": [
            "\t * percent_features : 0.5\n"
          ]
        },
        {
          "name": "stderr",
          "output_type": "stream",
          "text": [
            "INFO:evalml.pipelines.components.component_base.describe:\t * percent_features : 0.5\n"
          ]
        },
        {
          "name": "stdout",
          "output_type": "stream",
          "text": [
            "\t * threshold : median\n"
          ]
        },
        {
          "name": "stderr",
          "output_type": "stream",
          "text": [
            "INFO:evalml.pipelines.components.component_base.describe:\t * threshold : median\n"
          ]
        },
        {
          "name": "stdout",
          "output_type": "stream",
          "text": [
            "\t * n_jobs : -1\n"
          ]
        },
        {
          "name": "stderr",
          "output_type": "stream",
          "text": [
            "INFO:evalml.pipelines.components.component_base.describe:\t * n_jobs : -1\n"
          ]
        },
        {
          "name": "stdout",
          "output_type": "stream",
          "text": [
            "7. Random Forest Classifier\n"
          ]
        },
        {
          "name": "stderr",
          "output_type": "stream",
          "text": [
            "INFO:evalml.pipelines.component_graph.describe:7. Random Forest Classifier\n"
          ]
        },
        {
          "name": "stdout",
          "output_type": "stream",
          "text": [
            "\t * n_estimators : 100\n"
          ]
        },
        {
          "name": "stderr",
          "output_type": "stream",
          "text": [
            "INFO:evalml.pipelines.components.component_base.describe:\t * n_estimators : 100\n"
          ]
        },
        {
          "name": "stdout",
          "output_type": "stream",
          "text": [
            "\t * max_depth : 6\n"
          ]
        },
        {
          "name": "stderr",
          "output_type": "stream",
          "text": [
            "INFO:evalml.pipelines.components.component_base.describe:\t * max_depth : 6\n"
          ]
        },
        {
          "name": "stdout",
          "output_type": "stream",
          "text": [
            "\t * n_jobs : -1\n"
          ]
        },
        {
          "name": "stderr",
          "output_type": "stream",
          "text": [
            "INFO:evalml.pipelines.components.component_base.describe:\t * n_jobs : -1\n"
          ]
        }
      ],
      "source": [
        "automl.best_pipeline.describe()"
      ]
    },
    {
      "cell_type": "code",
      "execution_count": 133,
      "metadata": {
        "colab": {
          "base_uri": "https://localhost:8080/"
        },
        "id": "PzBeHysVTl1Y",
        "outputId": "4076b670-0623-4af9-886c-ada72736e0d5"
      },
      "outputs": [
        {
          "data": {
            "text/plain": [
              "{'Accuracy Binary': 0.8996929375639714}"
            ]
          },
          "execution_count": 133,
          "metadata": {},
          "output_type": "execute_result"
        }
      ],
      "source": [
        "best_pipeline = automl.best_pipeline.fit(X_train, y_train)\n",
        "\n",
        "score = best_pipeline.score(\n",
        "    X=X_holdout,\n",
        "    y=y_holdout,\n",
        "    objectives=['accuracy binary'],\n",
        ")\n",
        "\n",
        "dict(score)"
      ]
    },
    {
      "cell_type": "code",
      "execution_count": 128,
      "metadata": {
        "id": "iGL4Q4CnUJfK"
      },
      "outputs": [],
      "source": [
        "feature_importance = best_pipeline.feature_importance\n",
        "feature_importance = feature_importance.set_index('feature')['importance']\n",
        "top_k = feature_importance.abs().sort_values().tail(20).index"
      ]
    },
    {
      "cell_type": "markdown",
      "metadata": {},
      "source": [
        "# Making Predictions\n",
        "You are ready to make predictions with your trained model. Start by calculating the same set of features by using the feature definitions. Also, use a cutoff time based on the latest information available in the dataset."
      ]
    },
    {
      "cell_type": "code",
      "execution_count": 129,
      "metadata": {
        "colab": {
          "base_uri": "https://localhost:8080/",
          "height": 452
        },
        "id": "8KCjlIHWUPLf",
        "outputId": "33cd9f38-45fe-4c36-a3fa-247781ff5c80"
      },
      "outputs": [
        {
          "data": {
            "text/html": [
              "\n",
              "\n",
              "  <div id=\"df-245228b7-59d3-47b4-8971-0dee05b62e64\">\n",
              "    <div class=\"colab-df-container\">\n",
              "      <div>\n",
              "<style scoped>\n",
              "    .dataframe tbody tr th:only-of-type {\n",
              "        vertical-align: middle;\n",
              "    }\n",
              "\n",
              "    .dataframe tbody tr th {\n",
              "        vertical-align: top;\n",
              "    }\n",
              "\n",
              "    .dataframe thead th {\n",
              "        text-align: right;\n",
              "    }\n",
              "</style>\n",
              "<table border=\"1\" class=\"dataframe\">\n",
              "  <thead>\n",
              "    <tr style=\"text-align: right;\">\n",
              "      <th></th>\n",
              "      <th></th>\n",
              "      <th>COUNT(orders)</th>\n",
              "      <th>COUNT(order_products)</th>\n",
              "      <th>MAX(order_products.add_to_cart_order)</th>\n",
              "      <th>MAX(order_products.index)</th>\n",
              "      <th>MAX(order_products.reordered)</th>\n",
              "      <th>MEAN(order_products.add_to_cart_order)</th>\n",
              "      <th>MEAN(order_products.index)</th>\n",
              "      <th>MEAN(order_products.reordered)</th>\n",
              "      <th>MIN(order_products.add_to_cart_order)</th>\n",
              "      <th>MIN(order_products.index)</th>\n",
              "      <th>...</th>\n",
              "      <th>SUM(orders.NUM_UNIQUE(order_products.aisle))</th>\n",
              "      <th>SUM(orders.NUM_UNIQUE(order_products.department))</th>\n",
              "      <th>SUM(orders.SKEW(order_products.add_to_cart_order))</th>\n",
              "      <th>SUM(orders.SKEW(order_products.index))</th>\n",
              "      <th>SUM(orders.SKEW(order_products.reordered))</th>\n",
              "      <th>SUM(orders.STD(order_products.add_to_cart_order))</th>\n",
              "      <th>SUM(orders.STD(order_products.index))</th>\n",
              "      <th>SUM(orders.STD(order_products.reordered))</th>\n",
              "      <th>COUNT(order_products WHERE product_name = Banana)</th>\n",
              "      <th>COUNT(order_products WHERE department = produce)</th>\n",
              "    </tr>\n",
              "    <tr>\n",
              "      <th>user_id</th>\n",
              "      <th>time</th>\n",
              "      <th></th>\n",
              "      <th></th>\n",
              "      <th></th>\n",
              "      <th></th>\n",
              "      <th></th>\n",
              "      <th></th>\n",
              "      <th></th>\n",
              "      <th></th>\n",
              "      <th></th>\n",
              "      <th></th>\n",
              "      <th></th>\n",
              "      <th></th>\n",
              "      <th></th>\n",
              "      <th></th>\n",
              "      <th></th>\n",
              "      <th></th>\n",
              "      <th></th>\n",
              "      <th></th>\n",
              "      <th></th>\n",
              "      <th></th>\n",
              "      <th></th>\n",
              "    </tr>\n",
              "  </thead>\n",
              "  <tbody>\n",
              "    <tr>\n",
              "      <th>50978</th>\n",
              "      <th>2015-03-02</th>\n",
              "      <td>1</td>\n",
              "      <td>3</td>\n",
              "      <td>7.0</td>\n",
              "      <td>2.0</td>\n",
              "      <td>1.0</td>\n",
              "      <td>6.0</td>\n",
              "      <td>1.0</td>\n",
              "      <td>0.333333</td>\n",
              "      <td>5.0</td>\n",
              "      <td>0.0</td>\n",
              "      <td>...</td>\n",
              "      <td>2.0</td>\n",
              "      <td>1.0</td>\n",
              "      <td>0.0</td>\n",
              "      <td>0.0</td>\n",
              "      <td>1.732051</td>\n",
              "      <td>1.0</td>\n",
              "      <td>1.0</td>\n",
              "      <td>0.57735</td>\n",
              "      <td>0</td>\n",
              "      <td>0</td>\n",
              "    </tr>\n",
              "    <tr>\n",
              "      <th>52115</th>\n",
              "      <th>2015-03-02</th>\n",
              "      <td>1</td>\n",
              "      <td>0</td>\n",
              "      <td>NaN</td>\n",
              "      <td>NaN</td>\n",
              "      <td>NaN</td>\n",
              "      <td>NaN</td>\n",
              "      <td>NaN</td>\n",
              "      <td>NaN</td>\n",
              "      <td>NaN</td>\n",
              "      <td>NaN</td>\n",
              "      <td>...</td>\n",
              "      <td>0.0</td>\n",
              "      <td>0.0</td>\n",
              "      <td>0.0</td>\n",
              "      <td>0.0</td>\n",
              "      <td>0.000000</td>\n",
              "      <td>0.0</td>\n",
              "      <td>0.0</td>\n",
              "      <td>0.00000</td>\n",
              "      <td>0</td>\n",
              "      <td>0</td>\n",
              "    </tr>\n",
              "    <tr>\n",
              "      <th>34652</th>\n",
              "      <th>2015-03-02</th>\n",
              "      <td>1</td>\n",
              "      <td>0</td>\n",
              "      <td>NaN</td>\n",
              "      <td>NaN</td>\n",
              "      <td>NaN</td>\n",
              "      <td>NaN</td>\n",
              "      <td>NaN</td>\n",
              "      <td>NaN</td>\n",
              "      <td>NaN</td>\n",
              "      <td>NaN</td>\n",
              "      <td>...</td>\n",
              "      <td>0.0</td>\n",
              "      <td>0.0</td>\n",
              "      <td>0.0</td>\n",
              "      <td>0.0</td>\n",
              "      <td>0.000000</td>\n",
              "      <td>0.0</td>\n",
              "      <td>0.0</td>\n",
              "      <td>0.00000</td>\n",
              "      <td>0</td>\n",
              "      <td>0</td>\n",
              "    </tr>\n",
              "    <tr>\n",
              "      <th>2588</th>\n",
              "      <th>2015-03-02</th>\n",
              "      <td>1</td>\n",
              "      <td>0</td>\n",
              "      <td>NaN</td>\n",
              "      <td>NaN</td>\n",
              "      <td>NaN</td>\n",
              "      <td>NaN</td>\n",
              "      <td>NaN</td>\n",
              "      <td>NaN</td>\n",
              "      <td>NaN</td>\n",
              "      <td>NaN</td>\n",
              "      <td>...</td>\n",
              "      <td>0.0</td>\n",
              "      <td>0.0</td>\n",
              "      <td>0.0</td>\n",
              "      <td>0.0</td>\n",
              "      <td>0.000000</td>\n",
              "      <td>0.0</td>\n",
              "      <td>0.0</td>\n",
              "      <td>0.00000</td>\n",
              "      <td>0</td>\n",
              "      <td>0</td>\n",
              "    </tr>\n",
              "    <tr>\n",
              "      <th>38892</th>\n",
              "      <th>2015-03-02</th>\n",
              "      <td>1</td>\n",
              "      <td>0</td>\n",
              "      <td>NaN</td>\n",
              "      <td>NaN</td>\n",
              "      <td>NaN</td>\n",
              "      <td>NaN</td>\n",
              "      <td>NaN</td>\n",
              "      <td>NaN</td>\n",
              "      <td>NaN</td>\n",
              "      <td>NaN</td>\n",
              "      <td>...</td>\n",
              "      <td>0.0</td>\n",
              "      <td>0.0</td>\n",
              "      <td>0.0</td>\n",
              "      <td>0.0</td>\n",
              "      <td>0.000000</td>\n",
              "      <td>0.0</td>\n",
              "      <td>0.0</td>\n",
              "      <td>0.00000</td>\n",
              "      <td>0</td>\n",
              "      <td>0</td>\n",
              "    </tr>\n",
              "  </tbody>\n",
              "</table>\n",
              "<p>5 rows × 140 columns</p>\n",
              "</div>\n",
              "      <button class=\"colab-df-convert\" onclick=\"convertToInteractive('df-245228b7-59d3-47b4-8971-0dee05b62e64')\"\n",
              "              title=\"Convert this dataframe to an interactive table.\"\n",
              "              style=\"display:none;\">\n",
              "\n",
              "  <svg xmlns=\"http://www.w3.org/2000/svg\" height=\"24px\"viewBox=\"0 0 24 24\"\n",
              "       width=\"24px\">\n",
              "    <path d=\"M0 0h24v24H0V0z\" fill=\"none\"/>\n",
              "    <path d=\"M18.56 5.44l.94 2.06.94-2.06 2.06-.94-2.06-.94-.94-2.06-.94 2.06-2.06.94zm-11 1L8.5 8.5l.94-2.06 2.06-.94-2.06-.94L8.5 2.5l-.94 2.06-2.06.94zm10 10l.94 2.06.94-2.06 2.06-.94-2.06-.94-.94-2.06-.94 2.06-2.06.94z\"/><path d=\"M17.41 7.96l-1.37-1.37c-.4-.4-.92-.59-1.43-.59-.52 0-1.04.2-1.43.59L10.3 9.45l-7.72 7.72c-.78.78-.78 2.05 0 2.83L4 21.41c.39.39.9.59 1.41.59.51 0 1.02-.2 1.41-.59l7.78-7.78 2.81-2.81c.8-.78.8-2.07 0-2.86zM5.41 20L4 18.59l7.72-7.72 1.47 1.35L5.41 20z\"/>\n",
              "  </svg>\n",
              "      </button>\n",
              "\n",
              "\n",
              "\n",
              "    <div id=\"df-76f970f5-bd2a-4717-8481-e84793136e0b\">\n",
              "      <button class=\"colab-df-quickchart\" onclick=\"quickchart('df-76f970f5-bd2a-4717-8481-e84793136e0b')\"\n",
              "              title=\"Suggest charts.\"\n",
              "              style=\"display:none;\">\n",
              "\n",
              "<svg xmlns=\"http://www.w3.org/2000/svg\" height=\"24px\"viewBox=\"0 0 24 24\"\n",
              "     width=\"24px\">\n",
              "    <g>\n",
              "        <path d=\"M19 3H5c-1.1 0-2 .9-2 2v14c0 1.1.9 2 2 2h14c1.1 0 2-.9 2-2V5c0-1.1-.9-2-2-2zM9 17H7v-7h2v7zm4 0h-2V7h2v10zm4 0h-2v-4h2v4z\"/>\n",
              "    </g>\n",
              "</svg>\n",
              "      </button>\n",
              "    </div>\n",
              "\n",
              "<style>\n",
              "  .colab-df-quickchart {\n",
              "    background-color: #E8F0FE;\n",
              "    border: none;\n",
              "    border-radius: 50%;\n",
              "    cursor: pointer;\n",
              "    display: none;\n",
              "    fill: #1967D2;\n",
              "    height: 32px;\n",
              "    padding: 0 0 0 0;\n",
              "    width: 32px;\n",
              "  }\n",
              "\n",
              "  .colab-df-quickchart:hover {\n",
              "    background-color: #E2EBFA;\n",
              "    box-shadow: 0px 1px 2px rgba(60, 64, 67, 0.3), 0px 1px 3px 1px rgba(60, 64, 67, 0.15);\n",
              "    fill: #174EA6;\n",
              "  }\n",
              "\n",
              "  [theme=dark] .colab-df-quickchart {\n",
              "    background-color: #3B4455;\n",
              "    fill: #D2E3FC;\n",
              "  }\n",
              "\n",
              "  [theme=dark] .colab-df-quickchart:hover {\n",
              "    background-color: #434B5C;\n",
              "    box-shadow: 0px 1px 3px 1px rgba(0, 0, 0, 0.15);\n",
              "    filter: drop-shadow(0px 1px 2px rgba(0, 0, 0, 0.3));\n",
              "    fill: #FFFFFF;\n",
              "  }\n",
              "</style>\n",
              "\n",
              "    <script>\n",
              "      async function quickchart(key) {\n",
              "        const containerElement = document.querySelector('#' + key);\n",
              "        const charts = await google.colab.kernel.invokeFunction(\n",
              "            'suggestCharts', [key], {});\n",
              "      }\n",
              "    </script>\n",
              "\n",
              "      <script>\n",
              "\n",
              "function displayQuickchartButton(domScope) {\n",
              "  let quickchartButtonEl =\n",
              "    domScope.querySelector('#df-76f970f5-bd2a-4717-8481-e84793136e0b button.colab-df-quickchart');\n",
              "  quickchartButtonEl.style.display =\n",
              "    google.colab.kernel.accessAllowed ? 'block' : 'none';\n",
              "}\n",
              "\n",
              "        displayQuickchartButton(document);\n",
              "      </script>\n",
              "      <style>\n",
              "    .colab-df-container {\n",
              "      display:flex;\n",
              "      flex-wrap:wrap;\n",
              "      gap: 12px;\n",
              "    }\n",
              "\n",
              "    .colab-df-convert {\n",
              "      background-color: #E8F0FE;\n",
              "      border: none;\n",
              "      border-radius: 50%;\n",
              "      cursor: pointer;\n",
              "      display: none;\n",
              "      fill: #1967D2;\n",
              "      height: 32px;\n",
              "      padding: 0 0 0 0;\n",
              "      width: 32px;\n",
              "    }\n",
              "\n",
              "    .colab-df-convert:hover {\n",
              "      background-color: #E2EBFA;\n",
              "      box-shadow: 0px 1px 2px rgba(60, 64, 67, 0.3), 0px 1px 3px 1px rgba(60, 64, 67, 0.15);\n",
              "      fill: #174EA6;\n",
              "    }\n",
              "\n",
              "    [theme=dark] .colab-df-convert {\n",
              "      background-color: #3B4455;\n",
              "      fill: #D2E3FC;\n",
              "    }\n",
              "\n",
              "    [theme=dark] .colab-df-convert:hover {\n",
              "      background-color: #434B5C;\n",
              "      box-shadow: 0px 1px 3px 1px rgba(0, 0, 0, 0.15);\n",
              "      filter: drop-shadow(0px 1px 2px rgba(0, 0, 0, 0.3));\n",
              "      fill: #FFFFFF;\n",
              "    }\n",
              "  </style>\n",
              "\n",
              "      <script>\n",
              "        const buttonEl =\n",
              "          document.querySelector('#df-245228b7-59d3-47b4-8971-0dee05b62e64 button.colab-df-convert');\n",
              "        buttonEl.style.display =\n",
              "          google.colab.kernel.accessAllowed ? 'block' : 'none';\n",
              "\n",
              "        async function convertToInteractive(key) {\n",
              "          const element = document.querySelector('#df-245228b7-59d3-47b4-8971-0dee05b62e64');\n",
              "          const dataTable =\n",
              "            await google.colab.kernel.invokeFunction('convertToInteractive',\n",
              "                                                     [key], {});\n",
              "          if (!dataTable) return;\n",
              "\n",
              "          const docLinkHtml = 'Like what you see? Visit the ' +\n",
              "            '<a target=\"_blank\" href=https://colab.research.google.com/notebooks/data_table.ipynb>data table notebook</a>'\n",
              "            + ' to learn more about interactive tables.';\n",
              "          element.innerHTML = '';\n",
              "          dataTable['output_type'] = 'display_data';\n",
              "          await google.colab.output.renderOutput(dataTable, element);\n",
              "          const docLink = document.createElement('div');\n",
              "          docLink.innerHTML = docLinkHtml;\n",
              "          element.appendChild(docLink);\n",
              "        }\n",
              "      </script>\n",
              "    </div>\n",
              "  </div>\n"
            ],
            "text/plain": [
              "                    COUNT(orders)  COUNT(order_products)  \\\n",
              "user_id time                                               \n",
              "50978   2015-03-02              1                      3   \n",
              "52115   2015-03-02              1                      0   \n",
              "34652   2015-03-02              1                      0   \n",
              "2588    2015-03-02              1                      0   \n",
              "38892   2015-03-02              1                      0   \n",
              "\n",
              "                    MAX(order_products.add_to_cart_order)  \\\n",
              "user_id time                                                \n",
              "50978   2015-03-02                                    7.0   \n",
              "52115   2015-03-02                                    NaN   \n",
              "34652   2015-03-02                                    NaN   \n",
              "2588    2015-03-02                                    NaN   \n",
              "38892   2015-03-02                                    NaN   \n",
              "\n",
              "                    MAX(order_products.index)  MAX(order_products.reordered)  \\\n",
              "user_id time                                                                   \n",
              "50978   2015-03-02                        2.0                            1.0   \n",
              "52115   2015-03-02                        NaN                            NaN   \n",
              "34652   2015-03-02                        NaN                            NaN   \n",
              "2588    2015-03-02                        NaN                            NaN   \n",
              "38892   2015-03-02                        NaN                            NaN   \n",
              "\n",
              "                    MEAN(order_products.add_to_cart_order)  \\\n",
              "user_id time                                                 \n",
              "50978   2015-03-02                                     6.0   \n",
              "52115   2015-03-02                                     NaN   \n",
              "34652   2015-03-02                                     NaN   \n",
              "2588    2015-03-02                                     NaN   \n",
              "38892   2015-03-02                                     NaN   \n",
              "\n",
              "                    MEAN(order_products.index)  \\\n",
              "user_id time                                     \n",
              "50978   2015-03-02                         1.0   \n",
              "52115   2015-03-02                         NaN   \n",
              "34652   2015-03-02                         NaN   \n",
              "2588    2015-03-02                         NaN   \n",
              "38892   2015-03-02                         NaN   \n",
              "\n",
              "                    MEAN(order_products.reordered)  \\\n",
              "user_id time                                         \n",
              "50978   2015-03-02                        0.333333   \n",
              "52115   2015-03-02                             NaN   \n",
              "34652   2015-03-02                             NaN   \n",
              "2588    2015-03-02                             NaN   \n",
              "38892   2015-03-02                             NaN   \n",
              "\n",
              "                    MIN(order_products.add_to_cart_order)  \\\n",
              "user_id time                                                \n",
              "50978   2015-03-02                                    5.0   \n",
              "52115   2015-03-02                                    NaN   \n",
              "34652   2015-03-02                                    NaN   \n",
              "2588    2015-03-02                                    NaN   \n",
              "38892   2015-03-02                                    NaN   \n",
              "\n",
              "                    MIN(order_products.index)  ...  \\\n",
              "user_id time                                   ...   \n",
              "50978   2015-03-02                        0.0  ...   \n",
              "52115   2015-03-02                        NaN  ...   \n",
              "34652   2015-03-02                        NaN  ...   \n",
              "2588    2015-03-02                        NaN  ...   \n",
              "38892   2015-03-02                        NaN  ...   \n",
              "\n",
              "                    SUM(orders.NUM_UNIQUE(order_products.aisle))  \\\n",
              "user_id time                                                       \n",
              "50978   2015-03-02                                           2.0   \n",
              "52115   2015-03-02                                           0.0   \n",
              "34652   2015-03-02                                           0.0   \n",
              "2588    2015-03-02                                           0.0   \n",
              "38892   2015-03-02                                           0.0   \n",
              "\n",
              "                   SUM(orders.NUM_UNIQUE(order_products.department))  \\\n",
              "user_id time                                                           \n",
              "50978   2015-03-02                                               1.0   \n",
              "52115   2015-03-02                                               0.0   \n",
              "34652   2015-03-02                                               0.0   \n",
              "2588    2015-03-02                                               0.0   \n",
              "38892   2015-03-02                                               0.0   \n",
              "\n",
              "                   SUM(orders.SKEW(order_products.add_to_cart_order))  \\\n",
              "user_id time                                                            \n",
              "50978   2015-03-02                                                0.0   \n",
              "52115   2015-03-02                                                0.0   \n",
              "34652   2015-03-02                                                0.0   \n",
              "2588    2015-03-02                                                0.0   \n",
              "38892   2015-03-02                                                0.0   \n",
              "\n",
              "                    SUM(orders.SKEW(order_products.index))  \\\n",
              "user_id time                                                 \n",
              "50978   2015-03-02                                     0.0   \n",
              "52115   2015-03-02                                     0.0   \n",
              "34652   2015-03-02                                     0.0   \n",
              "2588    2015-03-02                                     0.0   \n",
              "38892   2015-03-02                                     0.0   \n",
              "\n",
              "                    SUM(orders.SKEW(order_products.reordered))  \\\n",
              "user_id time                                                     \n",
              "50978   2015-03-02                                    1.732051   \n",
              "52115   2015-03-02                                    0.000000   \n",
              "34652   2015-03-02                                    0.000000   \n",
              "2588    2015-03-02                                    0.000000   \n",
              "38892   2015-03-02                                    0.000000   \n",
              "\n",
              "                    SUM(orders.STD(order_products.add_to_cart_order))  \\\n",
              "user_id time                                                            \n",
              "50978   2015-03-02                                                1.0   \n",
              "52115   2015-03-02                                                0.0   \n",
              "34652   2015-03-02                                                0.0   \n",
              "2588    2015-03-02                                                0.0   \n",
              "38892   2015-03-02                                                0.0   \n",
              "\n",
              "                    SUM(orders.STD(order_products.index))  \\\n",
              "user_id time                                                \n",
              "50978   2015-03-02                                    1.0   \n",
              "52115   2015-03-02                                    0.0   \n",
              "34652   2015-03-02                                    0.0   \n",
              "2588    2015-03-02                                    0.0   \n",
              "38892   2015-03-02                                    0.0   \n",
              "\n",
              "                    SUM(orders.STD(order_products.reordered))  \\\n",
              "user_id time                                                    \n",
              "50978   2015-03-02                                    0.57735   \n",
              "52115   2015-03-02                                    0.00000   \n",
              "34652   2015-03-02                                    0.00000   \n",
              "2588    2015-03-02                                    0.00000   \n",
              "38892   2015-03-02                                    0.00000   \n",
              "\n",
              "                    COUNT(order_products WHERE product_name = Banana)  \\\n",
              "user_id time                                                            \n",
              "50978   2015-03-02                                                  0   \n",
              "52115   2015-03-02                                                  0   \n",
              "34652   2015-03-02                                                  0   \n",
              "2588    2015-03-02                                                  0   \n",
              "38892   2015-03-02                                                  0   \n",
              "\n",
              "                    COUNT(order_products WHERE department = produce)  \n",
              "user_id time                                                          \n",
              "50978   2015-03-02                                                 0  \n",
              "52115   2015-03-02                                                 0  \n",
              "34652   2015-03-02                                                 0  \n",
              "2588    2015-03-02                                                 0  \n",
              "38892   2015-03-02                                                 0  \n",
              "\n",
              "[5 rows x 140 columns]"
            ]
          },
          "execution_count": 129,
          "metadata": {},
          "output_type": "execute_result"
        }
      ],
      "source": [
        "fm = ft.calculate_feature_matrix(\n",
        "    features=fd,\n",
        "    entityset=es,\n",
        "    cutoff_time=ft.pd.Timestamp('2015-03-02'),\n",
        "    cutoff_time_in_index=True,\n",
        "    verbose=False,\n",
        ")\n",
        "\n",
        "fm.head()"
      ]
    },
    {
      "cell_type": "markdown",
      "metadata": {},
      "source": [
        "Predict whether customers will purchase bananas within the next 3 days."
      ]
    },
    {
      "cell_type": "code",
      "execution_count": 130,
      "metadata": {
        "colab": {
          "base_uri": "https://localhost:8080/",
          "height": 237
        },
        "id": "u9evtvRNUU_L",
        "outputId": "c194be3c-16bc-4496-855d-a91a2a30f1bf"
      },
      "outputs": [
        {
          "data": {
            "text/html": [
              "\n",
              "\n",
              "  <div id=\"df-d4dcd1a6-9cb3-49bf-9b43-5282b3b5ce76\">\n",
              "    <div class=\"colab-df-container\">\n",
              "      <div>\n",
              "<style scoped>\n",
              "    .dataframe tbody tr th:only-of-type {\n",
              "        vertical-align: middle;\n",
              "    }\n",
              "\n",
              "    .dataframe tbody tr th {\n",
              "        vertical-align: top;\n",
              "    }\n",
              "\n",
              "    .dataframe thead th {\n",
              "        text-align: right;\n",
              "    }\n",
              "</style>\n",
              "<table border=\"1\" class=\"dataframe\">\n",
              "  <thead>\n",
              "    <tr style=\"text-align: right;\">\n",
              "      <th></th>\n",
              "      <th></th>\n",
              "      <th>bought_product (estimate)</th>\n",
              "    </tr>\n",
              "    <tr>\n",
              "      <th>user_id</th>\n",
              "      <th>time</th>\n",
              "      <th></th>\n",
              "    </tr>\n",
              "  </thead>\n",
              "  <tbody>\n",
              "    <tr>\n",
              "      <th>50978</th>\n",
              "      <th>2015-03-02</th>\n",
              "      <td>False</td>\n",
              "    </tr>\n",
              "    <tr>\n",
              "      <th>52115</th>\n",
              "      <th>2015-03-02</th>\n",
              "      <td>True</td>\n",
              "    </tr>\n",
              "    <tr>\n",
              "      <th>34652</th>\n",
              "      <th>2015-03-02</th>\n",
              "      <td>True</td>\n",
              "    </tr>\n",
              "    <tr>\n",
              "      <th>2588</th>\n",
              "      <th>2015-03-02</th>\n",
              "      <td>True</td>\n",
              "    </tr>\n",
              "    <tr>\n",
              "      <th>38892</th>\n",
              "      <th>2015-03-02</th>\n",
              "      <td>True</td>\n",
              "    </tr>\n",
              "  </tbody>\n",
              "</table>\n",
              "</div>\n",
              "      <button class=\"colab-df-convert\" onclick=\"convertToInteractive('df-d4dcd1a6-9cb3-49bf-9b43-5282b3b5ce76')\"\n",
              "              title=\"Convert this dataframe to an interactive table.\"\n",
              "              style=\"display:none;\">\n",
              "\n",
              "  <svg xmlns=\"http://www.w3.org/2000/svg\" height=\"24px\"viewBox=\"0 0 24 24\"\n",
              "       width=\"24px\">\n",
              "    <path d=\"M0 0h24v24H0V0z\" fill=\"none\"/>\n",
              "    <path d=\"M18.56 5.44l.94 2.06.94-2.06 2.06-.94-2.06-.94-.94-2.06-.94 2.06-2.06.94zm-11 1L8.5 8.5l.94-2.06 2.06-.94-2.06-.94L8.5 2.5l-.94 2.06-2.06.94zm10 10l.94 2.06.94-2.06 2.06-.94-2.06-.94-.94-2.06-.94 2.06-2.06.94z\"/><path d=\"M17.41 7.96l-1.37-1.37c-.4-.4-.92-.59-1.43-.59-.52 0-1.04.2-1.43.59L10.3 9.45l-7.72 7.72c-.78.78-.78 2.05 0 2.83L4 21.41c.39.39.9.59 1.41.59.51 0 1.02-.2 1.41-.59l7.78-7.78 2.81-2.81c.8-.78.8-2.07 0-2.86zM5.41 20L4 18.59l7.72-7.72 1.47 1.35L5.41 20z\"/>\n",
              "  </svg>\n",
              "      </button>\n",
              "\n",
              "\n",
              "\n",
              "    <div id=\"df-c51ce092-2471-4bcd-84ea-c8d26dffdf64\">\n",
              "      <button class=\"colab-df-quickchart\" onclick=\"quickchart('df-c51ce092-2471-4bcd-84ea-c8d26dffdf64')\"\n",
              "              title=\"Suggest charts.\"\n",
              "              style=\"display:none;\">\n",
              "\n",
              "<svg xmlns=\"http://www.w3.org/2000/svg\" height=\"24px\"viewBox=\"0 0 24 24\"\n",
              "     width=\"24px\">\n",
              "    <g>\n",
              "        <path d=\"M19 3H5c-1.1 0-2 .9-2 2v14c0 1.1.9 2 2 2h14c1.1 0 2-.9 2-2V5c0-1.1-.9-2-2-2zM9 17H7v-7h2v7zm4 0h-2V7h2v10zm4 0h-2v-4h2v4z\"/>\n",
              "    </g>\n",
              "</svg>\n",
              "      </button>\n",
              "    </div>\n",
              "\n",
              "<style>\n",
              "  .colab-df-quickchart {\n",
              "    background-color: #E8F0FE;\n",
              "    border: none;\n",
              "    border-radius: 50%;\n",
              "    cursor: pointer;\n",
              "    display: none;\n",
              "    fill: #1967D2;\n",
              "    height: 32px;\n",
              "    padding: 0 0 0 0;\n",
              "    width: 32px;\n",
              "  }\n",
              "\n",
              "  .colab-df-quickchart:hover {\n",
              "    background-color: #E2EBFA;\n",
              "    box-shadow: 0px 1px 2px rgba(60, 64, 67, 0.3), 0px 1px 3px 1px rgba(60, 64, 67, 0.15);\n",
              "    fill: #174EA6;\n",
              "  }\n",
              "\n",
              "  [theme=dark] .colab-df-quickchart {\n",
              "    background-color: #3B4455;\n",
              "    fill: #D2E3FC;\n",
              "  }\n",
              "\n",
              "  [theme=dark] .colab-df-quickchart:hover {\n",
              "    background-color: #434B5C;\n",
              "    box-shadow: 0px 1px 3px 1px rgba(0, 0, 0, 0.15);\n",
              "    filter: drop-shadow(0px 1px 2px rgba(0, 0, 0, 0.3));\n",
              "    fill: #FFFFFF;\n",
              "  }\n",
              "</style>\n",
              "\n",
              "    <script>\n",
              "      async function quickchart(key) {\n",
              "        const containerElement = document.querySelector('#' + key);\n",
              "        const charts = await google.colab.kernel.invokeFunction(\n",
              "            'suggestCharts', [key], {});\n",
              "      }\n",
              "    </script>\n",
              "\n",
              "      <script>\n",
              "\n",
              "function displayQuickchartButton(domScope) {\n",
              "  let quickchartButtonEl =\n",
              "    domScope.querySelector('#df-c51ce092-2471-4bcd-84ea-c8d26dffdf64 button.colab-df-quickchart');\n",
              "  quickchartButtonEl.style.display =\n",
              "    google.colab.kernel.accessAllowed ? 'block' : 'none';\n",
              "}\n",
              "\n",
              "        displayQuickchartButton(document);\n",
              "      </script>\n",
              "      <style>\n",
              "    .colab-df-container {\n",
              "      display:flex;\n",
              "      flex-wrap:wrap;\n",
              "      gap: 12px;\n",
              "    }\n",
              "\n",
              "    .colab-df-convert {\n",
              "      background-color: #E8F0FE;\n",
              "      border: none;\n",
              "      border-radius: 50%;\n",
              "      cursor: pointer;\n",
              "      display: none;\n",
              "      fill: #1967D2;\n",
              "      height: 32px;\n",
              "      padding: 0 0 0 0;\n",
              "      width: 32px;\n",
              "    }\n",
              "\n",
              "    .colab-df-convert:hover {\n",
              "      background-color: #E2EBFA;\n",
              "      box-shadow: 0px 1px 2px rgba(60, 64, 67, 0.3), 0px 1px 3px 1px rgba(60, 64, 67, 0.15);\n",
              "      fill: #174EA6;\n",
              "    }\n",
              "\n",
              "    [theme=dark] .colab-df-convert {\n",
              "      background-color: #3B4455;\n",
              "      fill: #D2E3FC;\n",
              "    }\n",
              "\n",
              "    [theme=dark] .colab-df-convert:hover {\n",
              "      background-color: #434B5C;\n",
              "      box-shadow: 0px 1px 3px 1px rgba(0, 0, 0, 0.15);\n",
              "      filter: drop-shadow(0px 1px 2px rgba(0, 0, 0, 0.3));\n",
              "      fill: #FFFFFF;\n",
              "    }\n",
              "  </style>\n",
              "\n",
              "      <script>\n",
              "        const buttonEl =\n",
              "          document.querySelector('#df-d4dcd1a6-9cb3-49bf-9b43-5282b3b5ce76 button.colab-df-convert');\n",
              "        buttonEl.style.display =\n",
              "          google.colab.kernel.accessAllowed ? 'block' : 'none';\n",
              "\n",
              "        async function convertToInteractive(key) {\n",
              "          const element = document.querySelector('#df-d4dcd1a6-9cb3-49bf-9b43-5282b3b5ce76');\n",
              "          const dataTable =\n",
              "            await google.colab.kernel.invokeFunction('convertToInteractive',\n",
              "                                                     [key], {});\n",
              "          if (!dataTable) return;\n",
              "\n",
              "          const docLinkHtml = 'Like what you see? Visit the ' +\n",
              "            '<a target=\"_blank\" href=https://colab.research.google.com/notebooks/data_table.ipynb>data table notebook</a>'\n",
              "            + ' to learn more about interactive tables.';\n",
              "          element.innerHTML = '';\n",
              "          dataTable['output_type'] = 'display_data';\n",
              "          await google.colab.output.renderOutput(dataTable, element);\n",
              "          const docLink = document.createElement('div');\n",
              "          docLink.innerHTML = docLinkHtml;\n",
              "          element.appendChild(docLink);\n",
              "        }\n",
              "      </script>\n",
              "    </div>\n",
              "  </div>\n"
            ],
            "text/plain": [
              "                    bought_product (estimate)\n",
              "user_id time                                 \n",
              "50978   2015-03-02                      False\n",
              "52115   2015-03-02                       True\n",
              "34652   2015-03-02                       True\n",
              "2588    2015-03-02                       True\n",
              "38892   2015-03-02                       True"
            ]
          },
          "execution_count": 130,
          "metadata": {},
          "output_type": "execute_result"
        }
      ],
      "source": [
        "y_pred = best_pipeline.predict(fm)\n",
        "y_pred = y_pred.values\n",
        "\n",
        "prediction = fm[[]]\n",
        "prediction['bought_product (estimate)'] = y_pred\n",
        "prediction.head()"
      ]
    },
    {
      "cell_type": "markdown",
      "metadata": {},
      "source": [
        "Next Steps\n",
        "You have completed this tutorial. You can revisit each step to explore and fine-tune the model using different parameters until it is ready for production. For more information about how to work with the features produced by Featuretools, take a look at the Featuretools documentation."
      ]
    }
  ],
  "metadata": {
    "colab": {
      "provenance": []
    },
    "kernelspec": {
      "display_name": "Python 3",
      "language": "python",
      "name": "python3"
    },
    "language_info": {
      "codemirror_mode": {
        "name": "ipython",
        "version": 3
      },
      "file_extension": ".py",
      "mimetype": "text/x-python",
      "name": "python",
      "nbconvert_exporter": "python",
      "pygments_lexer": "ipython3",
      "version": "3.10.6"
    },
    "orig_nbformat": 4
  },
  "nbformat": 4,
  "nbformat_minor": 0
}
